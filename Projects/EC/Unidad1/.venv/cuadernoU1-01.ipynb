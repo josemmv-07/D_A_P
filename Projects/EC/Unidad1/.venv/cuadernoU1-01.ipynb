{
 "cells": [
  {
   "cell_type": "markdown",
   "metadata": {
    "tags": []
   },
   "source": "# 1. Identificación de los elementos de un programa informático"
  },
  {
   "cell_type": "markdown",
   "metadata": {},
   "source": "## 1.1 Instrucciones"
  },
  {
   "cell_type": "markdown",
   "metadata": {},
   "source": "Las instrucciones son los comandos que el programa le da a la computadora para realizar una acción específica, como mostrar un mensaje o un cálculo en la pantalla."
  },
  {
   "cell_type": "code",
   "metadata": {},
   "source": [
    "print(\"¡Hola, mundo!\")\n",
    "print( 223 + 665 * 67)"
   ],
   "outputs": [],
   "execution_count": null
  },
  {
   "cell_type": "markdown",
   "metadata": {},
   "source": "## 1.2 Variables"
  },
  {
   "cell_type": "markdown",
   "metadata": {},
   "source": "Las variables se utilizan para almacenar datos que pueden cambiar durante la ejecución del programa:"
  },
  {
   "cell_type": "code",
   "metadata": {},
   "source": [
    "nombre = \"Ana\"\n",
    "edad = 20"
   ],
   "outputs": [],
   "execution_count": null
  },
  {
   "metadata": {},
   "cell_type": "markdown",
   "source": "Y en las instrucciones, se puede poner una variable, pero en ejecución será reemplazado por su valor en ese momento:"
  },
  {
   "metadata": {},
   "cell_type": "code",
   "source": "print (nombre)",
   "outputs": [],
   "execution_count": null
  },
  {
   "cell_type": "markdown",
   "metadata": {},
   "source": [
    "## 1.3 Entrada y salida (Input/Output)\n",
    "- Entrada: Permite recibir los datos del usuario.\n",
    "- Salida: Muestra los resultados en pantalla"
   ]
  },
  {
   "metadata": {},
   "cell_type": "code",
   "source": [
    "nombre = input(\"¿Cómo te llamas? \")\n",
    "print(\"Hola, \" + nombre)"
   ],
   "outputs": [],
   "execution_count": null
  },
  {
   "cell_type": "markdown",
   "metadata": {},
   "source": [
    "## 1.4 Tipo de datos\n",
    "Datos que pueden ser gestionados por un programa:\n",
    "- Números: int, float\n",
    "- Texto: str\n",
    "- Booleans: True/ False\n",
    "- Listas, diccionarios, conjuntos, etc. (estructuras más avanzadas)"
   ]
  },
  {
   "metadata": {},
   "cell_type": "markdown",
   "source": [
    "## 1.5 Estructuras de control\n",
    "Permiten controlar el flujo de ejecución del programa:\n",
    "\n",
    "Hay parte del código que se ejecuta y parte que no\n",
    "\n",
    "- Condicionales (if/else): permite ejecutar diferentes bloques de código de acuerdo con una condición.\n"
   ]
  },
  {
   "metadata": {},
   "cell_type": "code",
   "source": [
    "edad = int(input(\"¿Cuántos años tienes? \"))\n",
    "if edad >= 18:\n",
    "    print(\"Eres mayor de edad\")\n",
    "else:\n",
    "    print(\"Eres menor de edad\")"
   ],
   "outputs": [],
   "execution_count": null
  },
  {
   "metadata": {},
   "cell_type": "markdown",
   "source": "- Bucles (while, for): repiten una acción varias veces"
  },
  {
   "cell_type": "code",
   "metadata": {},
   "source": [
    "for i in range(5):\n",
    "    print(i)"
   ],
   "outputs": [],
   "execution_count": null
  },
  {
   "metadata": {},
   "cell_type": "markdown",
   "source": [
    "## 1.6 Funciones\n",
    "Las funciones son bloques de código reutilizables que realizan una tarea específica."
   ]
  },
  {
   "metadata": {},
   "cell_type": "code",
   "source": [
    "def saludar(nombre):\n",
    "    print(\"¡Hola, \" + nombre + \"!  Soy tu programa de Python. ¡Que pases un buen día!\")\n",
    "\n",
    "saludar(\"Pablo\")\n",
    "saludar(\"Miguel\")\n",
    "saludar(\"Sandra\")"
   ],
   "outputs": [],
   "execution_count": null
  },
  {
   "metadata": {},
   "cell_type": "markdown",
   "source": [
    "## 1.7 Comentarios (o documentación del código)\n",
    "Texto que está incluido en el código para explicar lo que hace, pero no se ejecuta."
   ]
  },
  {
   "metadata": {},
   "cell_type": "code",
   "source": [
    "# Esta función suma dos números\n",
    "def suma(a, b):\n",
    "    return a + b\n",
    "\n",
    "print(suma(5, 4))"
   ],
   "outputs": [],
   "execution_count": null
  },
  {
   "metadata": {},
   "cell_type": "markdown",
   "source": [
    "## 1.8 Módulos y bibliotecas\n",
    "Código ya preparado que se puede reutilizar para realizar tareas más complejas sin tener que programarlas desde cero."
   ]
  },
  {
   "metadata": {},
   "cell_type": "code",
   "source": [
    "import math\n",
    "print(math.sqrt(25))  # Raíz cuadrada de 25"
   ],
   "outputs": [],
   "execution_count": null
  }
 ],
 "metadata": {
  "kernelspec": {
   "display_name": "Python 3 (ipykernel)",
   "language": "python",
   "name": "python3"
  },
  "language_info": {
   "codemirror_mode": {
    "name": "ipython",
    "version": 3
   },
   "file_extension": ".py",
   "mimetype": "text/x-python",
   "name": "python",
   "nbconvert_exporter": "python",
   "pygments_lexer": "ipython3",
   "version": "3.9.6"
  },
  "widgets": {
   "application/vnd.jupyter.widget-state+json": {
    "state": {},
    "version_major": 2,
    "version_minor": 0
   }
  }
 },
 "nbformat": 4,
 "nbformat_minor": 4
}
