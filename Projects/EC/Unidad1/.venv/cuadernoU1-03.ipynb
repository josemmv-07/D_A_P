{
 "cells": [
  {
   "metadata": {},
   "cell_type": "markdown",
   "source": "# 3. Variables, tipos y comentarios",
   "id": "385a28fca82add9e"
  },
  {
   "metadata": {},
   "cell_type": "markdown",
   "source": [
    "## 3.1 Variables y tipos de datos\n",
    "Características principales de una variable:\n",
    "- Tiene un nombre (identificador), como edaa, nombre, contador, etc.\n",
    "- Tiene un valor, como 25, \"Juan\", true, etc.\n",
    "- El valor pertenece a un tipo de datos:\n",
    "    - Entrada Numérica (int, número entero), Decimal (float, número real en formato de coma flotante) , Complejo (complex)\n",
    "    - Texto (cadena de caracteres)\n",
    "    - Booleano (true o false)\n",
    "    - Ningún tipo especial, vacío\n",
    "    - Colección de tipo avanzado (se abordarán más adelante...)\n",
    "- Su valor puede ser modificado mientras se ejecute el proceso.\n",
    "\n",
    "En Python, no es necesario declarar el tipo de variable. Python lo deduce automáticamente. Las variables se crean cuando se realiza su primera asignación."
   ],
   "id": "72e96de8218c7944"
  },
  {
   "metadata": {},
   "cell_type": "code",
   "source": [
    "x = 10 # Número entero (entero)\n",
    "nombre = \"Ana\" # Cadena de texto (String)\n",
    "nombre2 = 'Pedro' # Cadena con comillas simples\n",
    "precio = 15.5 # Número decimal (float)\n",
    "es_activo = True # Booleano (True o False)\n",
    "b = None # Valor nulo, ausencia de valor\n",
    "a = b = c = 100 # asignación múltiple, un único valor\n",
    "userAge, userName = 30, 'Pedro' # Asignación múltiple, valores múltiples\n",
    "a, b = 23, 67 # Asignación múltiple\n",
    "a, b = b, a # Intercambio de valores (¡sin usar una variable temporal!)"
   ],
   "id": "7abf5d7343c794ef",
   "outputs": [],
   "execution_count": null
  },
  {
   "metadata": {},
   "cell_type": "markdown",
   "source": " Evitar el uso de una variable temporal para realizar el intercambio:",
   "id": "5fdf450e6491d628"
  },
  {
   "metadata": {},
   "cell_type": "code",
   "source": [
    "# Intercambio típico de los valores de dos variables\n",
    "a = 6\n",
    "b = 20\n",
    "temp = a\n",
    "a = b\n",
    "b = temp"
   ],
   "id": "b2be5e596953e82",
   "outputs": [],
   "execution_count": null
  },
  {
   "metadata": {},
   "cell_type": "markdown",
   "source": " Para saber qué tipo de datos tiene una variable, podemos usar la función **type()**:",
   "id": "95d6bc5265aa4764"
  },
  {
   "metadata": {},
   "cell_type": "code",
   "source": "type(a) # Nos indica el tipo actual de la variable",
   "id": "3340ac6e31be7d0e",
   "outputs": [],
   "execution_count": null
  },
  {
   "metadata": {},
   "cell_type": "markdown",
   "source": " Con **del(a)** se deja de emplear una variable (también con '**del a**').",
   "id": "9b78493e6cc94320"
  },
  {
   "metadata": {},
   "cell_type": "code",
   "source": [
    "del a  # deja la variable libre, sin tipo ni valor\n",
    "# del(a) # sintaxis alternativa"
   ],
   "id": "1c26484c8241bd9d",
   "outputs": [],
   "execution_count": null
  },
  {
   "metadata": {},
   "cell_type": "markdown",
   "source": [
    "## 3.2 Reglas para los nombres variables (identificadores)\n",
    "Los nombres de las variables (o identificadores) son sensibles a mayúsculas y minúsculas. En otras palabras, 'username' no es lo mismo que 'userName'.\n",
    "\n",
    "Los nombres de las variables solo pueden contener letras mayúsculas, letras minúsculas, números (dígitos) y un carácter subrayado (_). No pueden empezar con un número.\n",
    "\n",
    "En Python 3, también se pueden usar letras internacionales, tales como α, β, ñ, é, π, 变, etc.\n",
    "\n",
    "Los nombres de las variables no pueden ser palabras reservadas de Python. Es decir, las palabras clave del lenguaje no se pueden usar como nombres de variables. Por ejemplo, no se puede utilizar 'else' como un nombre de variable.\n",
    "\n",
    "Comete intencionalmente estos errores y familiarízate con los mensajes que proporciona Python:"
   ],
   "id": "58dc6ae49f38d41b"
  },
  {
   "metadata": {},
   "cell_type": "code",
   "source": "else = 9",
   "id": "9ff752eee74bd481",
   "outputs": [],
   "execution_count": null
  },
  {
   "metadata": {},
   "cell_type": "code",
   "source": "5var = 67",
   "id": "1f969b6022d34682",
   "outputs": [],
   "execution_count": null
  },
  {
   "metadata": {},
   "cell_type": "markdown",
   "source": [
    "## 3.3 Palabras reservadas de Python\n",
    "Python tiene un conjunto de palabras reservadas que no se pueden usar como nombres de variables, funciones o como cualquier otro identificador. Estas palabras tienen un significado especial dentro del lenguaje y son parte de su sistema de sintaxis.\n",
    "\n",
    "Para ver cuáles son las palabras de Python reservadas, podemos usar el módulo 'keyword':"
   ],
   "id": "c40bad90568d93f"
  },
  {
   "metadata": {},
   "cell_type": "code",
   "source": [
    "import keyword\n",
    "print(keyword.kwlist)"
   ],
   "id": "b10be66a20646e12",
   "outputs": [],
   "execution_count": null
  },
  {
   "metadata": {},
   "cell_type": "markdown",
   "source": [
    "## 3.4 Asignación de variables y literales en Python\n",
    "\n",
    "En el lado izquierdo de la asignación pondremos la variable en la que se almacenará el valor. En el lado derecho de la asignación pondremos un literal que será interpretado por Python.\n",
    "\n",
    "Los literales son los datos simples que Python es capaz de gestionar: números o cadenas de texto.\n",
    "### Números:\n",
    "Python puede manejar varios tipos de números:\n",
    "- Enteros (como 10, -5, 0)\n",
    "- Decimales (números con coma decimal, como 3.14, -0.5, 0.0)\n",
    "- Complejos (números con una parte imaginaria, como 1 + 2j)\n",
    "- En la notación decimal, octal o hexadecimal: los números se pueden representar en diferentes bases numéricas, tales como **0o** para los octales (p. ej. 0o10), ), **0x** para hexadecimales (p. ej. 0xFF), y en decimal como siempre.\n",
    "\n",
    "### Cadenas:\n",
    "Las cadenas de texto pueden estar entre comillas simples ('Hola') o dobles (\"Hola\").\n",
    "### Valores lógicos:\n",
    "Los valores lógicos en Python son:\n",
    "- True (verdadero)\n",
    "- False (falso)\n",
    "### Valor nulo:\n",
    "El valor nulo en Python es **None**, que se utiliza para representar la ausencia de valor.\n",
    "\n",
    "Ejemplo de asignación:"
   ],
   "id": "cb8f378ea1fecd64"
  },
  {
   "metadata": {},
   "cell_type": "code",
   "source": [
    "x = 10 # Un número entero\n",
    "y = 3.14 # Un número decimal\n",
    "z = \"Hola\" # Una cadena de texto\n",
    "a = True # Un valor lógico\n",
    "b = None # Un valor nulo"
   ],
   "id": "29e365769cff5a2",
   "outputs": [],
   "execution_count": null
  },
  {
   "metadata": {},
   "cell_type": "markdown",
   "source": " > ⚠️ **Recuerda**: **None** es diferente de **none**, **True** es distinto de **true**",
   "id": "e90d02afea606ace"
  },
  {
   "metadata": {},
   "cell_type": "markdown",
   "source": [
    "## 3.5 Escritura de datos en pantalla en Python\n",
    "### Función print()\n",
    "La función print() de Python es una de las más utilizadas y se utiliza para mostrar mensajes, datos o cualquier salida de pantalla en la consola. Es muy versátil y permite personalizar qué y cómo se muestra la información.\n",
    "\n",
    "Por defecto, print() añade un salto de línea (\\n) al final de cada línea impresa."
   ],
   "id": "2bb0d64e74a3226c"
  },
  {
   "metadata": {},
   "cell_type": "code",
   "source": [
    "a = 3332 + 23223 * 23\n",
    "print(a)\n",
    "print(a + 23334)\n",
    "print(\"¡Hola mundo!\")"
   ],
   "id": "1b0e22f4184a4b9",
   "outputs": [],
   "execution_count": null
  },
  {
   "metadata": {},
   "cell_type": "markdown",
   "source": [
    "### Personalización con el argumento **end**\n",
    "Por defecto, print() imprime un salto de línea al final. Este comportamiento puede ser modificado con el parámetro **end**.\n",
    "- Imprime en la misma línea:"
   ],
   "id": "73f126a7745bf754"
  },
  {
   "metadata": {},
   "cell_type": "code",
   "source": "print(\"¡Hola\", 33, \"mundo!\")",
   "id": "f98fedfb911d2b46",
   "outputs": [],
   "execution_count": null
  },
  {
   "metadata": {},
   "cell_type": "markdown",
   "source": "- Sin salto de línea:",
   "id": "bd7926979a8adf1"
  },
  {
   "metadata": {},
   "cell_type": "code",
   "source": [
    "print(\"¡Hola\", end = \" \")\n",
    "print(\"Mundo\", end = \"!\")"
   ],
   "id": "b2e06ff28eae4af",
   "outputs": [],
   "execution_count": null
  },
  {
   "metadata": {},
   "cell_type": "markdown",
   "source": "- Inserta una línea de salto manualmente con **\\n**:",
   "id": "4111faac8c83fd4e"
  },
  {
   "metadata": {},
   "cell_type": "code",
   "source": "print(\"¡Hola\\nMundo!\")",
   "id": "77323bd2fd4097af",
   "outputs": [],
   "execution_count": null
  },
  {
   "metadata": {},
   "cell_type": "markdown",
   "source": "Ejemplo:",
   "id": "36916e8841475b9d"
  },
  {
   "metadata": {},
   "cell_type": "code",
   "source": [
    "for i in range(5):\n",
    "    print(i, end = \" \")"
   ],
   "id": "f64d3fc4a277d1a7",
   "outputs": [],
   "execution_count": null
  },
  {
   "metadata": {},
   "cell_type": "markdown",
   "source": [
    "### Personalización con el argumento **sep**\n",
    "El argumento **sep** (opcional):\n",
    "- Define el separador entre objetos.\n",
    "- Por defecto es un espacio ' '.\n"
   ],
   "id": "9a0430c3fd859963"
  },
  {
   "metadata": {},
   "cell_type": "code",
   "source": [
    "a = 3.14153345\n",
    "print ( a, 234, 'pepe')\n",
    "print ( a, 234, 'pepe', sep='>>')"
   ],
   "id": "df0d5cfb05aedc8b",
   "outputs": [],
   "execution_count": null
  },
  {
   "metadata": {},
   "cell_type": "markdown",
   "source": [
    "## 3.6 Comentarios en el código de Python\n",
    "Los comentarios de Python se utilizan para añadir al código notas o explicaciones y no serán ejecutadas por el intérprete de Python. Son útiles para hacer que el código sea más comprensible para uno mismo y para otras personas que lo lean.\n",
    "### Formas de comentar\n",
    "Hay dos formas de comentar en Python: En una línea o en varias líneas.\n",
    "- Comentario en una línea: Los comentarios de una sola línea comienzan con el símbolo #. El texto que sigue a este símbolo será ignorado por el intérprete.\n",
    "- Comentario de varias líneas: Los comentarios de varias líneas se pueden crear con comillas dobles triples (\"\"\" ... \"\"\") o con tres comillas simples (''' ... ''').\n",
    "\n",
    "### Ejemplos de comentarios:"
   ],
   "id": "177d3ffcba00a3dd"
  },
  {
   "metadata": {},
   "cell_type": "code",
   "source": [
    "# Este es un comentario de una línea, también puede ir detrás del código\n",
    "x = 10 # Asignación de un valor a x\n",
    "\n",
    "\"\"\" Este es un comentario\n",
    "de varias líneas: Comentario multilínea \"\"\"\n",
    "y = 20 # Asignación de un valor a y\n",
    "\n",
    "''' Con tres comillas simples\n",
    "también puedes crear comentarios de varias líneas '''\n",
    "z = 30 # Asignación de un valor a z"
   ],
   "id": "f73aab9b26e041a9",
   "outputs": [],
   "execution_count": null
  },
  {
   "metadata": {},
   "cell_type": "markdown",
   "source": [
    "### Algunos usos de los comentarios son:\n",
    "- Explicar el propósito del código\n",
    "- Escribir recordatorios o tareas pendientes (TODOs)\n",
    "- Desactivar temporalmente partes del código\n",
    "- Documentar el código (cómo se emplea)\n",
    "- Ayudar en la depuración"
   ],
   "id": "65301de58431b7fd"
  },
  {
   "metadata": {},
   "cell_type": "markdown",
   "source": [
    "## 3.7 Ejercicios\n",
    "### 1. Variables y tipos de datos\n",
    "\n",
    "- Ejercicio 1.1: Crea una variable llamada edad y asigna tu edad como valor. Luego, usa la función type() para verificar el tipo de la variable.\n",
    "- Ejercicio 1.2: Crea una variable llamada nombre y asigna tu nombre como valor. ¿De qué tipo es esta variable? Utiliza type() para verificarlo.\n",
    "- Ejercicio 1.3: Asigna el valor True a una variable llamada es_estudiante. Usa la función type() para confirmar su tipo.\n",
    "- Ejercicio 1.4: Crea una variable pi y asígnale el valor de pi con una precisión de 3 decimales (de forma manual). ¿Qué tipo tiene esta variable?\n",
    "- Ejercicio 1.5: Crea una variable temperatura y asigna el valor 25. Usa del() para eliminar la variable y luego intenta imprimirla. ¿Qué error aparece?\n",
    "- Ejercicio 1.6: Crea tres variables 'x', 'y', 'z' y asígnales valores. Luego, elimina la variable 'y' usando del() y verifica si puedes imprimir su valor.\n",
    "\n",
    "### 2. Reglas para nombrar variables\n",
    "\n",
    "- Ejercicio 2.1: Crea una variable que siga las siguientes reglas: empieza con una letra, contiene un número y no tiene caracteres especiales (p.ej., _, #, etc.).\n",
    "- Ejercicio 2.2: Intenta crear una variable con un nombre que empiece con un número. ¿Qué error aparece?\n",
    "- Ejercicio 2.3: Crea una variable con un nombre largo que use letras y guiones bajos.\n",
    "- Ejercicio 2.4: Intenta crear una variable con un nombre que sea una palabra reservada en Python (por ejemplo, if, else, for). ¿Qué error aparece?\n",
    "- Ejercicio 2.5: Crea un listado de al menos 5 palabras reservadas en Python y escribe brevemente qué hacen (puedes buscar en la documentación).\n",
    "\n",
    "### 3. Asignación de variables\n",
    "\n",
    "- Ejercicio 3.1: Asigna a la variable 'a' el valor 10, a la variable 'b' el valor 5 y luego realiza una operación matemática entre ellas (suma, resta, multiplicación, etc.) y almacena el resultado en una nueva variable llamada resultado.\n",
    "- Ejercicio 3.2: Crea tres variables, x = 10, y = 20 y z = 30. Luego, asigna a la variable total la suma de estas tres variables.\n",
    "- Ejercicio 3.3: Crea una variable 'ninguno' y asígnale el valor None. ¿Qué tipo tiene esta variable?\n",
    "\n",
    "### 4. Escritura de datos en pantalla con print\n",
    "\n",
    "- Ejercicio 4.1: Imprime en pantalla los valores de dos variables: nombre = \"Ana\" y edad = 25. La salida debería verse así: \"Ana tiene 25 años\".\n",
    "- Ejercicio 4.2: Usa el argumento end para que la función print imprima \"Hola\" y luego \"Mundo\" en la misma línea, separadas por un espacio.\n",
    "- Ejercicio 4.3: Usa el argumento sep para imprimir los valores 1, 2 y 3 con un guion (-) como separador entre ellos.\n",
    "- Ejercicio 4.4: Imprime las palabras \"Python\", \"es\", \"genial\" en la misma línea, pero separadas por comas.\n",
    "\n",
    "### 5. Ejercicios de integración\n",
    "\n",
    "- Ejercicio 5.1: Crea un programa que pida al usuario su nombre y su edad, los guarde en variables y luego imprima un mensaje que diga \"Hola, [nombre]. Tienes [edad] años\". Escribe un comentario de una sola línea que describa el propósito de tu código.\n",
    "- Ejercicio 5.2: Crea tres variables: una con un valor booleano, otra con un número y otra con una cadena de texto. Usa print() para mostrar los tres valores en una sola línea, separados por un guion. Escribe un comentario de varias líneas en el que expliques qué hace el código.\n",
    "- Ejercicio 5.3: Realiza una operación matemática con variables que hayas asignado anteriormente y usa print() para mostrar el resultado de la operación. Comenta temporalmente una línea de código que imprima un valor para evitar que se ejecute."
   ],
   "id": "b3685fa65c24faa7"
  }
 ],
 "metadata": {
  "kernelspec": {
   "display_name": "Python 3",
   "language": "python",
   "name": "python3"
  },
  "language_info": {
   "codemirror_mode": {
    "name": "ipython",
    "version": 2
   },
   "file_extension": ".py",
   "mimetype": "text/x-python",
   "name": "python",
   "nbconvert_exporter": "python",
   "pygments_lexer": "ipython2",
   "version": "2.7.6"
  }
 },
 "nbformat": 4,
 "nbformat_minor": 5
}
