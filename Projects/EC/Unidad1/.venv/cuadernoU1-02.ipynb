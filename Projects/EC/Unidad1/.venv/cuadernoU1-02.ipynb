{
 "cells": [
  {
   "metadata": {},
   "cell_type": "markdown",
   "source": "# 2. Estructura y bloques fundamentales",
   "id": "e689186bcb9abac1"
  },
  {
   "metadata": {},
   "cell_type": "markdown",
   "source": [
    "## 2.1 Instrucciones aisladas\n",
    "Para empezar podemos utilizar instrucciones simples aisladas:"
   ],
   "id": "a03490d7c4be7a5e"
  },
  {
   "metadata": {},
   "cell_type": "code",
   "source": [
    "print(\"¡Hola mundo!\")\n",
    "print(34456 + 23345 )"
   ],
   "id": "25758872c77eabba",
   "outputs": [],
   "execution_count": null
  },
  {
   "metadata": {},
   "cell_type": "markdown",
   "source": "Esta es la forma en la que vamos a trabajar en este cuaderno.",
   "id": "b07419ab07ac3fb8"
  },
  {
   "metadata": {},
   "cell_type": "markdown",
   "source": [
    "## 2.2 Estructura de un programa\n",
    "La estructura básica de un programa de Python suele seguir un esquema simple y claro. Veamos la estructura típica de un programa Python bien organizado:"
   ],
   "id": "d2ea36d47c418332"
  },
  {
   "metadata": {},
   "cell_type": "markdown",
   "source": "> ⚠️ **Importante**: no debemos dejar espacios en blanco al principio de las instrucciones (si no pretendemos indentarlas)",
   "id": "bbb958565bbbbf78"
  },
  {
   "metadata": {},
   "cell_type": "code",
   "source": [
    "# 1. Imports (bibliotecas o mòdulos externos o propios)\n",
    "import math\n",
    "import sys\n",
    "\n",
    "# 2. Constantes globales\n",
    "PI = 3.14159\n",
    "MAX_INTENTOS = 5\n",
    "\n",
    "# 3. Definición de funciones\n",
    "def calcular_area_circulo(radio):\n",
    "    return PI * radio ** 2\n",
    "\n",
    "def saludar(nombre):\n",
    "    print(f\"¡Hola, {nombre}!\")\n",
    "\n",
    "# 4. Clase (opcional)\n",
    "class Persona:\n",
    "    def __init__(self, nombre, edad):\n",
    "        self.nombre = nombre\n",
    "        self.edad = edad\n",
    "\n",
    "    def presentar(self):\n",
    "        print(f\"Soy {self.nombre} y tengo {self.edad} años.\")\n",
    "\n",
    "# 5. Bloque principal (punto de entrada del programa)\n",
    "def main():\n",
    "    saludar(\"Ana\")\n",
    "    area = calcular_area_circulo(5)\n",
    "    print(f\"El área del círculo es: {area:.2f}\")\n",
    "\n",
    "    p = Persona(\"Juan\", 30)\n",
    "    p.presentar()\n",
    "\n",
    "# 6. Comprobación de si se ejecuta como un script principal\n",
    "if __name__ == \"__main__\":\n",
    "    main()"
   ],
   "id": "c5bc43ea55b2893f",
   "outputs": [],
   "execution_count": null
  },
  {
   "metadata": {},
   "cell_type": "markdown",
   "source": [
    "## 2.3 Archivos de código fuente de Python (.py)\n",
    "- Todas las instrucciones de un programa deben guardarse en un archivo con un nombre y con la extensión '.py'.\n",
    "- Para ejecutar un programa de Python, invocamos al binario de Python y añadimos un espacio y el nombre del archivo que contiene el programa de Python a ejecutar: 'python programa.py'.\n",
    "- También es posible ejecutar nuestro programa desde el IDE.\n",
    "- Como vimos en los apuntes para la preparación del entorno, en GNU/Linux y macOS, podemos convertir el programa en un script ejecutable e invocarlo desde la línea de comandos."
   ],
   "id": "7c5b6bf750cc2067"
  },
  {
   "metadata": {},
   "cell_type": "markdown",
   "source": [
    "## 2.4 Programa vs. Proceso\n",
    "La diferencia entre programa y proceso es fundamental en informática.\n",
    "Programa:\n",
    "- Es un archivo de código o conjunto de instrucciones escritas en un lenguaje de programación (como Python, C, etc.).\n",
    "- No está en ejecución, es sólo el plan o la receta de lo que el ordenador tiene que hacer.\n",
    "- Ejemplos: Un archivo 'main.py' que contiene código Python; Un ejecutable como firefox.exe.\n",
    "Proceso:\n",
    "- Es un programa de ejecución.\n",
    "- Cuando el sistema operativo carga un programa en la memoria y comienza a ejecutarlo, se convierte en un proceso.\n",
    "- Tiene su espacio de memoria, variables, estado, identificador (IDP), etc.\n",
    "- Puede haber varios procesos del mismo programa al mismo tiempo (por ejemplo, dos ventanas de Firefox)."
   ],
   "id": "8c3ca94d19afcc7"
  },
  {
   "metadata": {},
   "cell_type": "markdown",
   "source": [
    "## 2.5 Depuración de programas\n",
    "La depuración (o debugging) de un programa de Python consiste en el proceso de localización y corrección de errores (bugs) en el código para que funcione correctamente. Para ello podemos emplear:\n",
    "- Impresiones (print):\n"
   ],
   "id": "c4bfc225d5ef5e1b"
  },
  {
   "metadata": {},
   "cell_type": "code",
   "source": [
    "x = 6\n",
    "# ...\n",
    "print(\"Valor de x:\", x)"
   ],
   "id": "2833d7e520dc0da2",
   "outputs": [],
   "execution_count": null
  },
  {
   "metadata": {},
   "cell_type": "markdown",
   "source": "- Utilizar excepciones (try / except):",
   "id": "c24162df369b21e0"
  },
  {
   "metadata": {},
   "cell_type": "code",
   "source": [
    "try:\n",
    "    resultado = 10 / 0\n",
    "except ZeroDivisionError:\n",
    "    print(\"¡No es posible dividir entre cero!\")"
   ],
   "id": "7221ef7c847bbba1",
   "outputs": [],
   "execution_count": null
  },
  {
   "metadata": {},
   "cell_type": "markdown",
   "source": "- Depurador interativo (pdb):",
   "id": "5ab4f15e2354db5b"
  },
  {
   "metadata": {},
   "cell_type": "code",
   "source": [
    "import pdb\n",
    "familia = \"Dasypodidae\"\n",
    "peso = 28.9\n",
    "pdb.set_trace()"
   ],
   "id": "496d6385effa525c",
   "outputs": [],
   "execution_count": null
  },
  {
   "metadata": {},
   "cell_type": "markdown",
   "source": [
    "- Depurador integrado en el IDE: Entornos como VS Code, PyCharm o Thonny ofrecen depuración gráfica con puntos de interrupción, seguimiento paso a paso y visualización variable.\n",
    "- Comprobaciones con 'assert':"
   ],
   "id": "12e9eae5bf0d9c8e"
  },
  {
   "metadata": {},
   "cell_type": "code",
   "source": "assert x > 0, \"x ha de ser positivo\"",
   "id": "9086e750dd9706f6",
   "outputs": [],
   "execution_count": null
  },
  {
   "metadata": {},
   "cell_type": "markdown",
   "source": [
    "**Objetivo de depuración**\n",
    "- Que el programa funcione correctamente\n",
    "- Hacerlo estable en situaciones imprevistas\n",
    "- Facilitar su mantenimiento"
   ],
   "id": "5aacdc0a860b656d"
  },
  {
   "metadata": {},
   "cell_type": "markdown",
   "source": [
    "## 2.6 Tipos de errores\n",
    "\n",
    "En Python, hay varios tipos de errores que pueden aparecer durante la ejecución o compilación de un programa. Se pueden clasificar en dos grandes categorías: errores de sintaxis y errores en tiempo de ejecución (excepciones).\n",
    "- Errores de sintaxis: Son errores que ocurren cuando el código no sigue las reglas de la sintaxis del lenguaje.\n",
    "- Errores en tiempo de ejecución (excepciones): Son errores que ocurren mientras el programa se ejecuta.\n",
    "\n",
    "Algunos tipos comunes:\n",
    "- **NameError**: Al referirse a una variable que no existe\n",
    "- **TypeError**: Cuando se realiza una operación con tipos incompatibles\n",
    "- **ValueError**: Cuando una función recibe un valor del tipo correcto pero inadecuado\n",
    "- **IndexError**: Cuando se accede a una posición inexistente en una lista o tupla\n",
    "- **KeyError**: Cuando se accede a una clave que no existe en un diccionario\n",
    "- **AttributeError**: Cuando se intenta acceder a un método o atributo inexistente\n",
    "- **ZeroDivisionError**: Cuando se divide por cero\n",
    "- **ImportError / ModuleNotFoundError**: Cuando un módulo no puede ser importado\n",
    "- **FileNotFoundError**: Cuando se intenta abrir un archivo que no existe\n",
    "- **IndentationError**: Cuando hay un problema con el sangrado"
   ],
   "id": "909dcc9d5c504128"
  }
 ],
 "metadata": {
  "kernelspec": {
   "display_name": "Python 3",
   "language": "python",
   "name": "python3"
  },
  "language_info": {
   "codemirror_mode": {
    "name": "ipython",
    "version": 2
   },
   "file_extension": ".py",
   "mimetype": "text/x-python",
   "name": "python",
   "nbconvert_exporter": "python",
   "pygments_lexer": "ipython2",
   "version": "2.7.6"
  }
 },
 "nbformat": 4,
 "nbformat_minor": 5
}
