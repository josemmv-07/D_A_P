{
 "cells": [
  {
   "cell_type": "markdown",
   "id": "f91cd423b01ba618",
   "metadata": {},
   "source": [
    "# 6. Estructuras de control. Manejo de errores"
   ]
  },
  {
   "cell_type": "markdown",
   "id": "8505003899ca8916",
   "metadata": {},
   "source": [
    "## 6.1 Ejecución secuencial\n",
    "La ejecución secuencial de instrucciones es el comportamiento predeterminado en un programa Python, de manera que estas se procesan en el orden en que aparecen en el código. En otras palabras, las líneas de código se ejecutan de arriba a abajo, una por una, sin saltarse ninguna instrucción.\n",
    "\n",
    "Ejemplo sencillo de ejecución secuencial:"
   ]
  },
  {
   "cell_type": "code",
   "execution_count": 11,
   "id": "275d93d08fe6fff4",
   "metadata": {},
   "outputs": [
    {
     "name": "stdout",
     "output_type": "stream",
     "text": [
      "Hola, mi nombre es María\n",
      "Tengo 25 años.\n"
     ]
    }
   ],
   "source": [
    "nombre = \"María\"\n",
    "edad = 25\n",
    "\n",
    "print(\"Hola, mi nombre es\", nombre)\n",
    "print(\"Tengo\", edad, \"años.\")"
   ]
  },
  {
   "cell_type": "markdown",
   "id": "bb421bf3a9a545d8",
   "metadata": {},
   "source": [
    "En la ejecución secuencial, el flujo de control siempre sigue el código de arriba a abajo. No hay saltos de línea o condiciones que puedan alterar esta orden.\n",
    "\n",
    "La ejecución secuencial es la forma más básica de ejecución en un programa. Cada línea corre una tras otra. Aunque este tipo de ejecución es útil para programas simples, la mayoría de los programas utilizan estructuras de control tales como if, for, while, etc., para gestionar flujos de control más complejos."
   ]
  },
  {
   "cell_type": "markdown",
   "id": "1a491b346a2d3823",
   "metadata": {},
   "source": [
    "## 6.2 Ejecución condicional (if, elif, else)\n",
    "Las estructuras condicionales permiten ejecutar bloques de código de acuerdo con las condiciones especificadas en el mismo. El operador `:` marca el comienzo de un bloque de código estructurado (e indentado) y es esencial para que Python interprete correctamente la jerarquía del programa.\n",
    "\n",
    "La indentación se indica con 4 espacios y define la estructura del programa. Es fundamental en Python, a diferencia de otros lenguajes que utilizan llaves `{}`.\n",
    "\n",
    "Ejemplo de uso del condicional if-else:"
   ]
  },
  {
   "cell_type": "code",
   "execution_count": 12,
   "id": "3b92e3816c78e097",
   "metadata": {},
   "outputs": [
    {
     "name": "stdout",
     "output_type": "stream",
     "text": [
      "Eres menor de edad\n"
     ]
    }
   ],
   "source": [
    "edad = int(input('¿Qué edad tienes?'))\n",
    "if edad >= 18:\n",
    "    print(\"Eres mayor de edad\")     # esta instrucción está indentada\n",
    "    print(\"==================\")     # estas instrucciones forman un bloque\n",
    "else:\n",
    "    print(\"Eres menor de edad\")     # esta instrucción también está indentada"
   ]
  },
  {
   "cell_type": "markdown",
   "id": "18c2ab1afe13ac7d",
   "metadata": {},
   "source": [
    "Ejemplo de uso del condicional if-elif-else:"
   ]
  },
  {
   "cell_type": "code",
   "execution_count": 13,
   "id": "bea833198f92f0ac",
   "metadata": {},
   "outputs": [
    {
     "name": "stdout",
     "output_type": "stream",
     "text": [
      "Excelente\n"
     ]
    }
   ],
   "source": [
    "n = float(input(\"¿Qué calificación has conseguido en la prueba?\"))\n",
    "if n<=4:\n",
    "    print (\"Necesitas mejorar\")\n",
    "elif n<=6:\n",
    "    print(\"Suficiente\")\n",
    "elif n<=8:\n",
    "    print(\"Notable\")\n",
    "else:\n",
    "    print(\"Excelente\")"
   ]
  },
  {
   "cell_type": "markdown",
   "id": "6415cb7f4e47706e",
   "metadata": {},
   "source": [
    "Si la estructura solo tiene una línea, no es necesario ser indentarla, aunque es común hacerlo:"
   ]
  },
  {
   "cell_type": "code",
   "execution_count": 14,
   "id": "2573128e484ae14a",
   "metadata": {},
   "outputs": [],
   "source": [
    "if edad >= 18: print(\"Eres mayor de edad.\")"
   ]
  },
  {
   "cell_type": "markdown",
   "id": "666fc1a2371b3c71",
   "metadata": {},
   "source": [
    "## 6.3 Guía de estilos de Python (PEP 8)\n",
    "Ahora que hemos mencionado las indentaciones, es buen momento para hablar de una de las guías de estilo oficiales para código Python. El documento PEP 8 (Python Enhancement Proposals) establece las mejores prácticas para hacer que el código sea más legible, consistente y mantenible.\n",
    "\n",
    "Principales reglas del PEP 8:\n",
    "- Indentación: Utilicemos 4 espacios por nivel de indentación (no tabulaciones).\n",
    "- Líneas de código: Máximo 79 caracteres por línea.\n",
    "- Espacios en blanco:\n",
    "  - Añadamos un espacio antes y después de los operadores (ejemplo: a = b + c).\n",
    "  - No se añaden espacios antes o después de los paréntesis (ejemplo: func(a, b)).\n",
    "- Nombres de variables y funciones:\n",
    "  - Variables y funciones: snake_case (ejemplo: mi_variable).\n",
    "  - Clases: camelCase (ejemplo: miClase).\n",
    "- Importaciones:\n",
    "  - Cada importación en una línea (ejemplo: import os).\n",
    "  - Primero importamos las bibliotecas estándar, luego las de terceros y al final las del propio proyecto.\n",
    "- Comentarios: Deben ser claros y concisos, preferiblemente en inglés."
   ]
  },
  {
   "cell_type": "markdown",
   "id": "de9d845efc5f0909",
   "metadata": {},
   "source": [
    "## 6.4 Condicional ternario en Python\n",
    "El condicional ternario en Python es una forma simplificada de escribir una estructura condicional `if-else`. Esta estructura nos permite, en una sola línea de código, asignar un valor a una variable de acuerdo con una condición, evitando así la necesidad de tener un bloque de código con múltiples líneas.\n",
    "\n",
    "Ejemplo:"
   ]
  },
  {
   "cell_type": "code",
   "execution_count": 15,
   "id": "5a849ceaddf29960",
   "metadata": {},
   "outputs": [
    {
     "name": "stdout",
     "output_type": "stream",
     "text": [
      "Mayor de edad\n"
     ]
    }
   ],
   "source": [
    "edad = 20  # Ejemplo de edad\n",
    "mensaje = \"Mayor de edad\" if edad >= 18 else \"Menor de edad\"\n",
    "print(mensaje)  # Salida: Mayor de edad"
   ]
  },
  {
   "cell_type": "markdown",
   "id": "c7308595f0d0b222",
   "metadata": {},
   "source": [
    "También se podría haber colocado dentro del propio `print`:"
   ]
  },
  {
   "cell_type": "code",
   "execution_count": 16,
   "id": "86027a2a2824e42c",
   "metadata": {},
   "outputs": [
    {
     "name": "stdout",
     "output_type": "stream",
     "text": [
      "Mayor de edad\n"
     ]
    }
   ],
   "source": [
    "print(\"Mayor de edad\" if edad >= 18 else \"Menor de edad\")"
   ]
  },
  {
   "cell_type": "markdown",
   "id": "8432122ee6d9de50",
   "metadata": {},
   "source": [
    "## 6.5 Condicional match-case\n",
    "Desde Python 3.10 está disponible la estructura condicional `match-case`, que es una estructura similar a del `switch-case` de otros lenguajes.\n",
    "\n",
    "Ejemplo:"
   ]
  },
  {
   "cell_type": "code",
   "execution_count": 17,
   "id": "e3bf998e83a00579",
   "metadata": {},
   "outputs": [
    {
     "name": "stdout",
     "output_type": "stream",
     "text": [
      "Otro valor\n"
     ]
    }
   ],
   "source": [
    "def ejemplo_switch(valor):\n",
    "    match valor:\n",
    "        case 1:\n",
    "            return \"Uno\"\n",
    "        case 2:\n",
    "            return \"Dos\"\n",
    "        case 3:\n",
    "            return \"Tres\"\n",
    "        case _:\n",
    "            return \"Otro valor\"\n",
    "\n",
    "print(ejemplo_switch(5))"
   ]
  },
  {
   "cell_type": "markdown",
   "id": "773eef394fbd25ca",
   "metadata": {},
   "source": [
    "El guión bajo `_` es el comodín, que captura cualquier valor que no coincida con un caso específico y es similar al `default` en otros lenguajes."
   ]
  },
  {
   "cell_type": "markdown",
   "id": "9233d81284bc7d95",
   "metadata": {},
   "source": [
    "## 6.6 Ejecución iterativa (for, while)\n",
    "Con la ejecución iterativa podemos conseguir que un conjunto de instrucciones se ejecute varias veces. Este tipo de estructuras, también conocidas como bucles, son esenciales en la programación.\n",
    "\n",
    "### 6.6.1 Bucles `for`\n",
    "El bucle `for` permite aplicar instrucciones sobre los elementos de una secuencia (como una lista o un rango).\n",
    "\n",
    "Ejemplo 1: Iteración con rangos"
   ]
  },
  {
   "cell_type": "code",
   "execution_count": 18,
   "id": "1f2ecf9a620b3e19",
   "metadata": {},
   "outputs": [
    {
     "name": "stdout",
     "output_type": "stream",
     "text": [
      "0\n",
      "1\n",
      "2\n",
      "3\n",
      "4\n"
     ]
    }
   ],
   "source": [
    "for i in range(5):  # Desde 0 hasta 4\n",
    "    print(i)"
   ]
  },
  {
   "cell_type": "markdown",
   "id": "8ab54ddfa87b7eaf",
   "metadata": {},
   "source": [
    "Ejemplo 2: Iteración con rangos estableciendo límites específicos"
   ]
  },
  {
   "cell_type": "code",
   "execution_count": 19,
   "id": "dfe22160b903b419",
   "metadata": {},
   "outputs": [
    {
     "name": "stdout",
     "output_type": "stream",
     "text": [
      "2\n",
      "3\n",
      "4\n"
     ]
    }
   ],
   "source": [
    "for i in range(2, 5):  # Desde 2 hasta 4\n",
    "    print(i)"
   ]
  },
  {
   "cell_type": "markdown",
   "id": "ef3ff7cac8ab8284",
   "metadata": {},
   "source": [
    "Ejemplo 3: Iteración con rangos estableciendo un paso específico"
   ]
  },
  {
   "cell_type": "code",
   "execution_count": 20,
   "id": "3bdc078dd5e9386e",
   "metadata": {},
   "outputs": [
    {
     "name": "stdout",
     "output_type": "stream",
     "text": [
      "2\n",
      "4\n",
      "6\n",
      "8\n"
     ]
    }
   ],
   "source": [
    "for i in range(2, 10, 2):  # Desde 2 hasta 8 con paso 2\n",
    "    print(i)"
   ]
  },
  {
   "cell_type": "markdown",
   "id": "928e63e2d70bb9d5",
   "metadata": {},
   "source": [
    "Ejemplo 4: Iteración sobre los elementos de una lista"
   ]
  },
  {
   "cell_type": "code",
   "execution_count": 21,
   "id": "2c01e036d177e42b",
   "metadata": {},
   "outputs": [
    {
     "name": "stdout",
     "output_type": "stream",
     "text": [
      "manzana\n",
      "plátano\n",
      "naranja\n"
     ]
    }
   ],
   "source": [
    "frutas = [\"manzana\", \"plátano\", \"naranja\"]    # Esta es una lista declarada de forma extensiva (estableciendo cada elemento de forma explícita)\n",
    "for i in frutas:\n",
    "    print(i)"
   ]
  },
  {
   "cell_type": "code",
   "execution_count": 22,
   "id": "65bb2ccb",
   "metadata": {},
   "outputs": [
    {
     "name": "stdout",
     "output_type": "stream",
     "text": [
      "0: manzana\n",
      "1: plátano\n",
      "2: naranja\n"
     ]
    }
   ],
   "source": [
    "for indice, valor in enumerate(frutas):\n",
    "    print(f\"{indice}: {valor}\")"
   ]
  },
  {
   "cell_type": "code",
   "execution_count": 23,
   "id": "017a0ab7",
   "metadata": {},
   "outputs": [
    {
     "name": "stdout",
     "output_type": "stream",
     "text": [
      "Granada no está en la lista de frutas\n"
     ]
    }
   ],
   "source": [
    "mi_fruta = \"Granada\"\n",
    "for valor in frutas:\n",
    "    if valor == mi_fruta:\n",
    "        print(f\"{mi_fruta} está entre el listado de frutas\")\n",
    "        break\n",
    "\n",
    "else:\n",
    "    print(f\"{mi_fruta} no está en la lista de frutas\")"
   ]
  },
  {
   "cell_type": "markdown",
   "id": "94b6365901e4d51e",
   "metadata": {},
   "source": [
    "Palabras clave dentro de un bucle for:\n",
    "- `break`: sale del bucle prematuramente.\n",
    "- `continue`: omite la iteración actual y continúa con la siguiente.\n",
    "- `else`: se ejecuta si el bucle no termina con un `break`.\n"
   ]
  },
  {
   "cell_type": "markdown",
   "id": "b603f84037f47adf",
   "metadata": {},
   "source": [
    "### 6.6.2 Bucles `while`\n",
    "El bucle `while` ejecuta una acción siempre que una condición sea verdadera.\n",
    "\n",
    "Ejemplo:"
   ]
  },
  {
   "cell_type": "code",
   "execution_count": 24,
   "id": "7d29d45930aae137",
   "metadata": {},
   "outputs": [
    {
     "name": "stdout",
     "output_type": "stream",
     "text": [
      "Contador: 0\n",
      "Contador: 1\n",
      "Contador: 2\n",
      "Contador: 3\n",
      "Contador: 4\n",
      "El bucle ha acabado con contador >= 5\n"
     ]
    }
   ],
   "source": [
    "contador = 0\n",
    "while contador < 5:\n",
    "    print(f\"Contador: {contador}\")\n",
    "    contador += 1  # Incrementa el contador\n",
    "    if contador == 7:\n",
    "        break\n",
    "else:\n",
    "    print(\"El bucle ha acabado con contador >= 5\")"
   ]
  },
  {
   "cell_type": "code",
   "execution_count": null,
   "id": "ccb737bd",
   "metadata": {},
   "outputs": [],
   "source": [
    "\n"
   ]
  },
  {
   "cell_type": "markdown",
   "id": "ccd3e2e76bcdbfc9",
   "metadata": {},
   "source": [
    "### 6.6.3 Cláusula `else` en bucles de Python\n",
    "Es una característica de Python (y poco común en otros lenguajes) que nos permite ejecutar un bloque de código cuando el bucle termina sin un `break`. Es útil porque permite distinguir entre:\n",
    "- Casos en los que se ha recorrido todo el bucle sin encontrar nada especial.\n",
    "- Casos en los que se ha interrumpido con un `break`.\n",
    "\n",
    "Ejemplo típico:"
   ]
  },
  {
   "cell_type": "code",
   "execution_count": 1,
   "id": "f9dae820078e9b64",
   "metadata": {},
   "outputs": [
    {
     "name": "stdout",
     "output_type": "stream",
     "text": [
      "No se ha encontrado ningún número par\n"
     ]
    }
   ],
   "source": [
    "# En este ejemplo, si no se encuentra ningún número par, se ejecuta la rama `else`\n",
    "for numero in [1, 3, 5, 7]:\n",
    "    if numero % 2 == 0:\n",
    "        print(f\"Hay un número par {numero}\")\n",
    "        break\n",
    "else:\n",
    "    print(\"No se ha encontrado ningún número par\")"
   ]
  },
  {
   "cell_type": "markdown",
   "id": "bca22a5a9ce60e7c",
   "metadata": {},
   "source": [
    "## 6.7 Saltos en Python\n",
    "En Python puedes realizar saltos durante la ejecución normal de las instrucciones, pero de forma limitada y controlada. Python no tiene una instrucción `goto`, al igual que otros idiomas antiguos (C, BASIC,...), pero puede modificar el flujo con otras estructuras."
   ]
  },
  {
   "cell_type": "markdown",
   "id": "2954f53f2adb00b1",
   "metadata": {},
   "source": [
    "### 6.7.1 Break\n",
    "Sale de inmediato de un bucle (`for` o `while`)"
   ]
  },
  {
   "cell_type": "code",
   "execution_count": 2,
   "id": "5560ef732be715f5",
   "metadata": {},
   "outputs": [
    {
     "name": "stdout",
     "output_type": "stream",
     "text": [
      "0 1 2 3 4 "
     ]
    }
   ],
   "source": [
    "for i in range(10):\n",
    "    if i == 5:\n",
    "        break\n",
    "    print(i, end = \" \")\n",
    "# Resultado: 0 1 2 3 4"
   ]
  },
  {
   "cell_type": "markdown",
   "id": "9659bb7cb06e05dd",
   "metadata": {},
   "source": [
    "### 6.7.2 Continue\n",
    "Salta a la siguiente iteración del bucle, sin ejecutar el resto del código que queda dentro del bucle."
   ]
  },
  {
   "cell_type": "code",
   "execution_count": 27,
   "id": "4c445db8a288c4cb",
   "metadata": {},
   "outputs": [
    {
     "name": "stdout",
     "output_type": "stream",
     "text": [
      "0 1 "
     ]
    }
   ],
   "source": [
    "for i in range(5):\n",
    "    if i == 2:\n",
    "        continue\n",
    "    elif i == 3:\n",
    "        break\n",
    "    print(i, end = \" \")\n",
    "# Resultado: 0 1 3 4"
   ]
  },
  {
   "cell_type": "markdown",
   "id": "68a1d11f55d04ed2",
   "metadata": {},
   "source": [
    "### 6.7.3 Return\n",
    "Sale de una función inmediatamente y puede devolver un valor."
   ]
  },
  {
   "cell_type": "code",
   "execution_count": 28,
   "id": "55a3e3304efe9a12",
   "metadata": {},
   "outputs": [
    {
     "name": "stdout",
     "output_type": "stream",
     "text": [
      "Negativo\n"
     ]
    }
   ],
   "source": [
    "def verifica(x):\n",
    "    if x < 0:\n",
    "        return \"Negativo\"\n",
    "    return \"Positivo o cero\"\n",
    "\n",
    "print(verifica(-5))"
   ]
  },
  {
   "cell_type": "markdown",
   "id": "639033b00c867c53",
   "metadata": {},
   "source": [
    "### 6.7.4 Raise\n",
    "Da un \"salto\" causando una excepción, rompiendo la ejecución normal del bloque."
   ]
  },
  {
   "cell_type": "code",
   "execution_count": 29,
   "id": "718099a35d95ef6f",
   "metadata": {},
   "outputs": [],
   "source": [
    "def dividir(x, y):\n",
    "    if y == 0:\n",
    "        raise ValueError(\"No es posible dividir por cero\")\n",
    "    return x / y"
   ]
  },
  {
   "cell_type": "markdown",
   "id": "eeef45a9b0c09dff",
   "metadata": {},
   "source": [
    "> ⚠️ **No hay `goto` en Python**: Python no permite `goto` porque va en contra de los principios de legibilidad y claridad que promueve el lenguaje.\n",
    "\n",
    "> ✅ **Alternativas recomendadas**:\n",
    "> - Emplear condiciones bien formadas en las estructuras condicionales y bucles.\n",
    "> - Usar `break` o `continue` solo cuando tenga sentido y mejore la claridad.\n",
    "> - Organizar el código en bloques claros y estructurados.\n",
    "> - Utilizar funciones para evitar repetir código.\n",
    "> - Escribir código legible y fácilmente mantenible."
   ]
  },
  {
   "cell_type": "markdown",
   "id": "c2ecfb5cb04401c5",
   "metadata": {},
   "source": [
    "## 6.8 Manejo de errores. Excepciones en Python\n",
    "En Python, utilizamos las estructuras `try` y `except` para capturar y gestionar los errores que puedan surgir durante la ejecución de un programa.\n",
    "\n",
    "Ejemplo:"
   ]
  },
  {
   "cell_type": "code",
   "execution_count": 30,
   "id": "4da7116779a0487d",
   "metadata": {},
   "outputs": [
    {
     "name": "stdout",
     "output_type": "stream",
     "text": [
      "Error: No se puede dividir entre cero.\n",
      "Esta parte se ejecuta siempre\n"
     ]
    }
   ],
   "source": [
    "try:\n",
    "    resultado = 10 / 0\n",
    "except ZeroDivisionError:\n",
    "    print(\"Error: No se puede dividir entre cero.\")\n",
    "else:\n",
    "    print(\"La operación ha sido correcta\")\n",
    "finally:\n",
    "    print(\"Esta parte se ejecuta siempre\")"
   ]
  },
  {
   "cell_type": "markdown",
   "id": "9e6b3208658af4",
   "metadata": {},
   "source": [
    "- ``try``: Intenta ejecutar el código que está dentro de esta sección.\n",
    "- ``except``: Si se produce un error (en este caso, una división entre cero), se ejecutará el código de esta sección.\n",
    "- ``else``: Si no se produce ningún error en el bloque try, se ejecutará el código de de esta sección.\n",
    "- ``finally``: Esta sección siempre se ejecuta, independientemente de si ha habido un error o no.\n",
    "\n",
    "**Estructura de control de flujo: ``pass``**\n",
    "\n",
    "El ``pass`` es una instrucción que puede ser utilizada como marcador de posición. Sirve para cuando se necesita una sintaxis válida, pero no se desea que el código haga nada en una parte específica.\n",
    "\n",
    "Ejemplo de uso de ``pass``:"
   ]
  },
  {
   "cell_type": "code",
   "execution_count": 31,
   "id": "55177bfc79c0b6b1",
   "metadata": {},
   "outputs": [],
   "source": [
    "condicion = True\n",
    "if condicion:\n",
    "        pass  # No hace nada, pero se puede dejar como marcador para agregar código más tarde"
   ]
  },
  {
   "cell_type": "markdown",
   "id": "ac2d8960aab63bbd",
   "metadata": {},
   "source": [
    "También en excepciones:"
   ]
  },
  {
   "cell_type": "code",
   "execution_count": 32,
   "id": "61e61b27537f399e",
   "metadata": {},
   "outputs": [],
   "source": [
    "try:\n",
    "    resultado = 10 / 0\n",
    "except ZeroDivisionError:\n",
    "    pass  # A completar más tarde\n",
    "else:\n",
    "    pass  # A completar más tarde\n",
    "finally:\n",
    "    pass  # A completar más tarde"
   ]
  },
  {
   "cell_type": "markdown",
   "id": "457ada76e6de445c",
   "metadata": {},
   "source": [
    "El control de errores con ``try`` y ``except`` es esencial para controlar las excepciones y evitar que el programa se \"rompa\" en caso de errores inesperados.\n",
    "\n",
    "Podemos construir excepciones personalizadas en Python. Para ello, debemos crear una nueva clase que herede de la clase base Exception. Ejemplo:"
   ]
  },
  {
   "cell_type": "code",
   "execution_count": 33,
   "id": "8c8b33ef0e581d9f",
   "metadata": {},
   "outputs": [],
   "source": [
    "class MiExcepcionPersonalizada(Exception):\n",
    "    def __init__(self, mensaje):\n",
    "        super().__init__(mensaje)"
   ]
  },
  {
   "cell_type": "markdown",
   "id": "762bb8bb79160f35",
   "metadata": {},
   "source": [
    "Luego podemos emplearla en un bloque ``try-except`` como cualquier otra excepción:"
   ]
  },
  {
   "cell_type": "code",
   "execution_count": 34,
   "id": "f6a089d5d1a303c2",
   "metadata": {},
   "outputs": [
    {
     "name": "stdout",
     "output_type": "stream",
     "text": [
      "¡Algo salió mal!\n"
     ]
    }
   ],
   "source": [
    "try:\n",
    "    raise MiExcepcionPersonalizada(\"¡Algo salió mal!\")\n",
    "except MiExcepcionPersonalizada as e:\n",
    "    print(e)"
   ]
  },
  {
   "cell_type": "markdown",
   "id": "e30afe6a4301b41f",
   "metadata": {},
   "source": [
    "## 6.9 Ejercicios iniciales\n",
    "- **Ejercicio 1:** Lee un número entero desde la entrada estándar y determina si es positivo, negativo o cero.\n",
    "- **Ejercicio 2:** Escribe un programa que pida un número y determine si es divisible entre 3, 5, o ambos.\n",
    "- **Ejercicio 3:** Verifica si un número es par o impar usando un condicional ternario.\n",
    "- **Ejercicio 4:** Determina si una persona es mayor de edad (18 años o más) con un condicional ternario.\n",
    "- **Ejercicio 5:** Imprime los números del 1 al 10 utilizando un bucle for con un rango.\n",
    "- **Ejercicio 6:** Imprime todos los números del 1 al 50 que sean divisibles por 4 utilizando un bucle for con un rango.\n",
    "- **Ejercicio 7:** Escribe un programa que pida al usuario un número positivo y luego calcule la suma de todos los números del 1 hasta ese número utilizando un bucle while.\n",
    "- **Ejercicio 8:** Implementa un programa que pida una contraseña y se repita (con un bucle while) hasta que el usuario introduzca la contraseña correcta.\n",
    "- **Ejercicio 9:** Crea un bucle for que imprima números del 1 al 10, pero que detenga el bucle al llegar al número 6 utilizando break.\n",
    "- **Ejercicio 11:** Escribe un programa que imprima los números del 1 al 10, pero que omita el número 5 utilizando continue.\n",
    "- **Ejercicio 12:** Crea una función que reciba un número y eleve una excepción si el número es negativo, utilizando raise.\n",
    "## 6.10 Ejercicios combinados\n",
    "- **Ejercicio 13:** Escribe un programa que pida una lista de números separados por comas y luego determine cuál es el mayor número par de la lista. Si no hay ningún número par, debe indicar que no existe ninguno.\n",
    "- **Ejercicio 14:** Pide al usuario que introduzca una lista de números y, utilizando un bucle for y condicionales, imprima los números negativos y positivos por separado.\n",
    "- **Ejercicio 15:** Imprime los números impares del 1 al 200 utilizando un bucle for con un rango que tenga paso de 3.\n",
    "- **Ejercicio 16:** Escribe un programa que imprima todos los múltiplos de 3 del 1 al 100, pero solo hasta el primer múltiplo mayor que 50.\n",
    "- **Ejercicio 17:** Crea una función que reciba el nombre de un mes (como \"enero\", \"febrero\", etc.) y devuelva la estación del año correspondiente usando match-case.\n",
    "- **Ejercicio 18:** Escribe un programa que reciba una cadena de texto representando un día de la semana y te diga si es fin de semana o día laborable utilizando match-case.\n",
    "- **Ejercicio 19:** Escribe un programa que busque un número en una lista utilizando un bucle for. Si lo encuentra, imprime \"Número encontrado\", y si no, imprime \"Número no encontrado\", utilizando else en el bucle.\n",
    "- **Ejercicio 20:** Implementa un programa que recorra una lista de nombres y determine si algún nombre tiene más de 5 caracteres. Si se encuentra uno, el bucle debe finalizar con break, y si no se encuentra ninguno, imprime \"Ningún nombre largo\" al final.\n",
    "- **Ejercicio 21:** Crea una función que reciba un número como argumento y si el número es negativo, lance una excepción de tipo ValueError con un mensaje como \"Error: número negativo\".\n",
    "- ❗**Ejercicio 22:** Modifica la solución anterior para que el usuario pueda intentar introducir un nuevo número si se lanza una excepción. Tendrá un número de intentos infinito.\n",
    "## 6.11 Ejercicios avanzados\n",
    "- **Ejercicio 23:** Escribe un programa que pida al usuario una lista de números y calcule su media, pero primero debe verificar que todos los números son positivos. Si algún número es negativo, lanza una excepción personalizada.\n",
    "- ❗**Ejercicio 24:** Crea una función que reciba una cadena de texto e imprima los caracteres en orden inverso (emplea `cadena[::-1]`). Si la cadena contiene más de 10 caracteres (emplea la función `len`), eleva una excepción indicando que es demasiado larga.\n",
    "- **Ejercicio 25:** Crea un programa que pida al usuario el nombre de un día de la semana (por ejemplo, 'lunes', 'martes', etc.) y un número del 1 al 7. El programa debe verificar si el número corresponde al día que se introdujo (lunes-1, martes-2, etc.). Si el número coincide con el día de la semana, imprimirá un mensaje como 'El día que introdujiste es correcto'. Si el número no corresponde al día introducido, imprimirá 'El número no corresponde con el día'. Si el número está fuera del rango (menor que 1 o mayor que 7), imprimirá 'Número inválido'. Si el nombre del día introducido no es válido (es decir, no es uno de los días de la semana), el programa debe imprimir 'Día inválido'.\n",
    "- ❗**Ejercicio 26:** Crea un programa que pida una lista de cadenas de texto. Si alguna de las cadenas tiene menos de 3 caracteres, lanzará una excepción personalizada (por ejemplo: `class CadenasDemasiadoCortasError(Exception):` que no hará nada `pass`). Si la cadena tiene más de 3 caracteres, la imprimirá, Recorrerá todas las cadenas, debe continuar incluso si se lanza una excepción para algunas cadenas.\n",
    "- ❗**Ejercicio 27:** Implementa una función recursiva que calcule el factorial de un número. Si el número es negativo, lanza una excepción (como `class FactorialNegativoError(Exception):`) indicando que no se puede calcular el factorial de números negativos.\n",
    "- **Ejercicio 28:** Crea una función que reciba una lista de números y devuelva el mayor número que aparece en la lista. Si la lista está vacía, lanzará una excepción.\n",
    "- ❗**Ejercicio 29:** Crea una clase Producto que tenga un nombre y un precio. Luego, implementa una clase Carrito que permita agregar productos al carrito, calcular el total, y eliminar productos. Si, al crear un producto, su precio es negativo, lanzará una excepción."
   ]
  },
  {
   "cell_type": "markdown",
   "id": "7ab0ae7b",
   "metadata": {},
   "source": [
    "- **Ejercicio 1:** Lee un número entero desde la entrada estándar y determina si es positivo, negativo o cero.\n",
    "- **Ejercicio 2:** Escribe un programa que pida un número y determine si es divisible entre 3, 5, o ambos.\n",
    "- **Ejercicio 3:** Verifica si un número es par o impar usando un condicional ternario.\n",
    "- **Ejercicio 4:** Determina si una persona es mayor de edad (18 años o más) con un condicional ternario.\n",
    "- **Ejercicio 5:** Imprime los números del 1 al 10 utilizando un bucle for con un rango.\n",
    "- **Ejercicio 6:** Imprime todos los números del 1 al 50 que sean divisibles por 4 utilizando un bucle for con un rango.\n",
    "- **Ejercicio 7:** Escribe un programa que pida al usuario un número positivo y luego calcule la suma de todos los números del 1 hasta ese número utilizando un bucle while.\n",
    "- **Ejercicio 8:** Implementa un programa que pida una contraseña y se repita (con un bucle while) hasta que el usuario introduzca la contraseña correcta.\n",
    "- **Ejercicio 9:** Crea un bucle for que imprima números del 1 al 10, pero que detenga el bucle al llegar al número 6 utilizando break.\n",
    "- **Ejercicio 11:** Escribe un programa que imprima los números del 1 al 10, pero que omita el número 5 utilizando continue.\n",
    "- **Ejercicio 12:** Crea una función que reciba un número y eleve una excepción si el número es negativo, utilizando raise."
   ]
  },
  {
   "cell_type": "code",
   "execution_count": null,
   "id": "6f2db040",
   "metadata": {},
   "outputs": [
    {
     "name": "stdout",
     "output_type": "stream",
     "text": [
      "1\n",
      "2\n",
      "3\n",
      "4\n",
      "5\n",
      "1\n",
      "2\n",
      "3\n",
      "4\n",
      "6\n",
      "7\n",
      "8\n",
      "9\n",
      "10\n"
     ]
    },
    {
     "ename": "ValueError",
     "evalue": "erro no puede ser negativo",
     "output_type": "error",
     "traceback": [
      "\u001b[1;31m---------------------------------------------------------------------------\u001b[0m",
      "\u001b[1;31mValueError\u001b[0m                                Traceback (most recent call last)",
      "Cell \u001b[1;32mIn[13], line 89\u001b[0m\n\u001b[0;32m     87\u001b[0m x \u001b[38;5;241m=\u001b[39m \u001b[38;5;28mint\u001b[39m(\u001b[38;5;28minput\u001b[39m(\u001b[38;5;124m\"\u001b[39m\u001b[38;5;124mDime un numero \u001b[39m\u001b[38;5;124m\"\u001b[39m))\n\u001b[0;32m     88\u001b[0m \u001b[38;5;28;01mif\u001b[39;00m x \u001b[38;5;241m<\u001b[39m \u001b[38;5;241m0\u001b[39m:\n\u001b[1;32m---> 89\u001b[0m     \u001b[38;5;28;01mraise\u001b[39;00m \u001b[38;5;167;01mValueError\u001b[39;00m(\u001b[38;5;124m\"\u001b[39m\u001b[38;5;124merro no puede ser negativo\u001b[39m\u001b[38;5;124m\"\u001b[39m)\n\u001b[0;32m     90\u001b[0m \u001b[38;5;28mprint\u001b[39m(x)\n",
      "\u001b[1;31mValueError\u001b[0m: erro no puede ser negativo"
     ]
    }
   ],
   "source": [
    "# 1\n",
    "\n",
    "num = int(input(\"Introduce un numero entero:\\n\"))\n",
    "\n",
    "if num > 0:\n",
    "    print(\"Tu número es positivo\")\n",
    "elif num < 0:\n",
    "    print(\"es negativo\")\n",
    "else:\n",
    "    print(\"es 0\")\n",
    "\n",
    "# 2\n",
    "numer = int(input(\"Escribe un numero entero a ver si es divisible entre 3 o 5\"))\n",
    "\n",
    "if numer % 3 == 0 and numer % 5 == 0:\n",
    "    print(\"si es divisible entre 3 y 5\")\n",
    "elif numer % 3 == 0:\n",
    "    print(\"Si se puede dividir entre 3\")\n",
    "elif numer % 5 == 0:\n",
    "     print(\"Si se puede entre 5\")\n",
    "\n",
    "else:\n",
    "    print(f\"Tu {numer} no se puede dividir entre 5 o 3\")\n",
    "\n",
    "# 3\n",
    "x = int(input(\"dime un numero y te digo si es par \"))\n",
    "mens = \"Es par\" if x % 2 == 0 else \"es impar\"\n",
    "print(mens)\n",
    "\n",
    "#4\n",
    "x = int(input(\"Dime tú edad \"))\n",
    "\n",
    "print(\"Eres mayor de edad\" if x >= 18 else \"No eres mayor de edad \")\n",
    "\n",
    "#5\n",
    "for a in range(1, 11):\n",
    "    print(a)\n",
    "\n",
    "#6\n",
    "for a in range(1, 50):\n",
    "    if a % 4 == 0:\n",
    "        print(a)\n",
    "\n",
    "#7\n",
    "usu = int(input(\"Dime un número positivo\"))\n",
    "suma = 0\n",
    "c = 1\n",
    "\n",
    "while c <= usu:\n",
    "    suma += c\n",
    "    c += 1\n",
    "\n",
    "\n",
    "print(f\"tu número {usu} y la suma {suma}\")\n",
    "\n",
    "#8\n",
    "\n",
    "contra = input(\"Dime una contraseña\")\n",
    "intr = input(\"introduzca la contraseña \")\n",
    "\n",
    "if contra == intr:\n",
    "    print(\"Contraseña correcta\")\n",
    "\n",
    "\n",
    "\n",
    "while contra != intr:\n",
    "    print(\"contraseña incorrecta\")\n",
    "    c = input(\"Introduce la contraseña\")\n",
    "    if c == contra:\n",
    "        print(\"contraseña correcta \")\n",
    "        break\n",
    "\n",
    "#9\n",
    "for a in range(1, 10):\n",
    "    if a == 6:\n",
    "        break\n",
    "    print(a)\n",
    "\n",
    "# 11\n",
    "for a in range(1, 11):\n",
    "    if a == 5:\n",
    "        continue\n",
    "    print(a)\n",
    "\n",
    "# 12\n",
    "\n",
    "x = int(input(\"Dime un numero \"))\n",
    "if x < 0:\n",
    "    raise ValueError(\"erro no puede ser negativo\")\n",
    "print(x)\n",
    "\n",
    "\n",
    "\n"
   ]
  },
  {
   "cell_type": "markdown",
   "id": "ab799b20",
   "metadata": {},
   "source": [
    "- **Ejercicio 13:** Escribe un programa que pida una lista de números separados por comas y luego determine cuál es el mayor número par de la lista. Si no hay ningún número par, debe indicar que no existe ninguno.\n",
    "- **Ejercicio 14:** Pide al usuario que introduzca una lista de números y, utilizando un bucle for y condicionales, imprima los números negativos y positivos por separado.\n",
    "- **Ejercicio 15:** Imprime los números impares del 1 al 200 utilizando un bucle for con un rango que tenga paso de 3.\n",
    "- **Ejercicio 16:** Escribe un programa que imprima todos los múltiplos de 3 del 1 al 100, pero solo hasta el primer múltiplo mayor que 50.\n",
    "- **Ejercicio 17:** Crea una función que reciba el nombre de un mes (como \"enero\", \"febrero\", etc.) y devuelva la estación del año correspondiente usando match-case.\n",
    "- **Ejercicio 18:** Escribe un programa que reciba una cadena de texto representando un día de la semana y te diga si es fin de semana o día laborable utilizando match-case.\n",
    "- **Ejercicio 19:** Escribe un programa que busque un número en una lista utilizando un bucle for. Si lo encuentra, imprime \"Número encontrado\", y si no, imprime \"Número no encontrado\", utilizando else en el bucle.\n",
    "- **Ejercicio 20:** Implementa un programa que recorra una lista de nombres y determine si algún nombre tiene más de 5 caracteres. Si se encuentra uno, el bucle debe finalizar con break, y si no se encuentra ninguno, imprime \"Ningún nombre largo\" al final.\n",
    "- **Ejercicio 21:** Crea una función que reciba un número como argumento y si el número es negativo, lance una excepción de tipo ValueError con un mensaje como \"Error: número negativo\".\n",
    "- ❗**Ejercicio 22:** Modifica la solución anterior para que el usuario pueda intentar introducir un nuevo número si se lanza una excepción. Tendrá un número de intentos infinito."
   ]
  }
 ],
 "metadata": {
  "kernelspec": {
   "display_name": "Python 3",
   "language": "python",
   "name": "python3"
  },
  "language_info": {
   "codemirror_mode": {
    "name": "ipython",
    "version": 3
   },
   "file_extension": ".py",
   "mimetype": "text/x-python",
   "name": "python",
   "nbconvert_exporter": "python",
   "pygments_lexer": "ipython3",
   "version": "3.13.7"
  }
 },
 "nbformat": 4,
 "nbformat_minor": 5
}
