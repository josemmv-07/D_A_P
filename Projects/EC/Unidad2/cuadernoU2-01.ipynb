{
 "cells": [
  {
   "metadata": {},
   "cell_type": "markdown",
   "source": "# 1. Introducción a Tkinter y TTK",
   "id": "609d9677edff68b"
  },
  {
   "metadata": {},
   "cell_type": "markdown",
   "source": [
    "## 1.1 Instalación de Tkinter y TTK\n",
    "Tkinter es una biblioteca estándar de Python que permite desarrollar interfaces gráficas de usuario (GUIs) de manera fácil y rápida. Viene integrada con Python, por lo que no es necesario instalar dependencias adicionales.\n",
    "\n",
    "TTK (Themed Tkinter) es una extensión de la biblioteca Tkinter. TTK se importa como un submódulo de Tkinter (generalmente como `from tkinter import ttk`). Si bien Tkinter ofrece una variedad de widgets básicos (botones, menús, cuadros de texto, etc.), su apariencia puede parecer anticuada. TTK extiende la funcionalidad de Tkinter ofreciendo widgets más sofisticados que siguen los temas y estilos del sistema operativo, pero ambos pueden usarse de manera complementaria en la misma aplicación.\n",
    "\n",
    "## 1.2 Creación de una ventana básica\n",
    "Creemos una ventana básica utilizando Tkinter, es decir, una ventana que se abrirá al ejecutar el programa:"
   ],
   "id": "c28867189c71d8aa"
  },
  {
   "metadata": {},
   "cell_type": "code",
   "source": [
    "import tkinter as tk\n",
    "\n",
    "# Crear la ventana principal\n",
    "ventana = tk.Tk()\n",
    "\n",
    "# Título de la ventana\n",
    "ventana.title(\"Mi primera GUI con Tkinter\")\n",
    "\n",
    "# Tamaño de la ventana\n",
    "ventana.geometry(\"400x300\")\n",
    "\n",
    "# Bucle principal de la ventana\n",
    "ventana.mainloop()"
   ],
   "id": "e8b724679d39b443",
   "outputs": [],
   "execution_count": null
  },
  {
   "metadata": {},
   "cell_type": "markdown",
   "source": [
    "- tk.Tk(): Crea la ventana principal.\n",
    "- ventana.title(): Establece el título de la ventana.\n",
    "- ventana.geometry(): Define el tamaño de la ventana como \"ancho x alto\" en píxeles.\n",
    "- ventana.mainloop(): Inicia el bucle de eventos de Tkinter, necesario para que la ventana permanezca abierta y responda a las interacciones del usuario.\n",
    "\n",
    "## 1.3 Añadir un botón\n",
    "\n",
    "Agreguemos un botón a nuestra ventana. Cuando el usuario haga clic en el botón, se ejecutará una función:"
   ],
   "id": "8c578509908211a8"
  },
  {
   "metadata": {},
   "cell_type": "code",
   "source": [
    "import tkinter as tk\n",
    "\n",
    "# Crear la ventana principal\n",
    "ventana = tk.Tk()\n",
    "ventana.title(\"Botón en Tkinter\")\n",
    "ventana.geometry(\"300x200\")\n",
    "\n",
    "# Función que se ejecuta cuando el botón es presionado\n",
    "def saludar():\n",
    "    print(\"¡Hola, mundo!\")\n",
    "\n",
    "# Crear un botón\n",
    "boton = tk.Button(ventana, text=\"Haz clic aquí\", command=saludar)\n",
    "boton.pack()  # Empaquetamos el botón en la ventana\n",
    "\n",
    "ventana.mainloop()"
   ],
   "id": "515c5ea75a1cce2e",
   "outputs": [],
   "execution_count": null
  },
  {
   "metadata": {},
   "cell_type": "markdown",
   "source": [
    "- tk.Button(): Crea un botón.\n",
    "- text=\"Haz clic aquí\": Especifica el texto que se mostrará en el botón.\n",
    "- command=saludar: Define la función que se ejecutará cuando se haga clic en el botón.\n",
    "\n",
    "Prueba ahora a usar TTK: importa primero la bibioteca ttk y sustituye después `tk.Button` por `ttk.Button`.\n",
    "\n",
    "## 1.4 Añadir una etiqueta (Label)\n",
    "\n",
    "Agreguemos ahora una etiqueta a la ventana. Las etiquetas se utilizan para mostrar texto estático:"
   ],
   "id": "fe6911b19c1f9360"
  },
  {
   "metadata": {},
   "cell_type": "code",
   "source": [
    "import tkinter as tk\n",
    "\n",
    "# Crear la ventana principal\n",
    "ventana = tk.Tk()\n",
    "ventana.title(\"Etiqueta en Tkinter\")\n",
    "ventana.geometry(\"400x300\")\n",
    "\n",
    "# Crear una etiqueta\n",
    "etiqueta = tk.Label(ventana, text=\"¡Bienvenido a Tkinter!\")\n",
    "etiqueta.pack()  # Empaquetamos la etiqueta en la ventana\n",
    "\n",
    "ventana.mainloop()"
   ],
   "id": "7d33b3667052c1f7",
   "outputs": [],
   "execution_count": null
  },
  {
   "metadata": {},
   "cell_type": "markdown",
   "source": [
    "- tk.Label(): Crea una etiqueta.\n",
    "- text=\"¡Bienvenido a Tkinter!\": Especifica el texto que se mostrará en la etiqueta.\n",
    "\n",
    "Pruébala ahora con TTK: importa primero la bibioteca y sustituye `tk.Label` por `ttk.Label`.\n",
    "\n",
    "## 1.5 Entradas de texto (Entry)\n",
    "\n",
    "Permitamos que el usuario introduzca texto usando un campo de texto (Entry):"
   ],
   "id": "caabe2c61ce1899f"
  },
  {
   "metadata": {},
   "cell_type": "code",
   "source": [
    "import tkinter as tk\n",
    "\n",
    "# Crear la ventana principal\n",
    "ventana = tk.Tk()\n",
    "ventana.title(\"Entrada de texto\")\n",
    "ventana.geometry(\"400x300\")\n",
    "\n",
    "# Crear una etiqueta\n",
    "etiqueta = tk.Label(ventana, text=\"Introduce tu nombre:\")\n",
    "etiqueta.pack()\n",
    "\n",
    "# Crear un campo de entrada de texto\n",
    "entrada = tk.Entry(ventana)\n",
    "entrada.pack()\n",
    "\n",
    "# Función para obtener el texto de la entrada\n",
    "def mostrar_nombre():\n",
    "    nombre = entrada.get()  # Obtener el texto del campo de entrada\n",
    "    print(f\"¡Hola, {nombre}!\")\n",
    "\n",
    "# Crear un botón para ejecutar la función\n",
    "boton = tk.Button(ventana, text=\"Mostrar nombre\", command=mostrar_nombre)\n",
    "boton.pack()\n",
    "\n",
    "ventana.mainloop()"
   ],
   "id": "4ab745cb34819bf0",
   "outputs": [],
   "execution_count": null
  },
  {
   "metadata": {},
   "cell_type": "markdown",
   "source": [
    "- tk.Entry(): Crea un campo de entrada donde el usuario puede escribir texto.\n",
    "- entrada.get(): Obtiene el texto que el usuario ha escrito.\n",
    "\n",
    "Pruébalo ahora con TTK: importa primero la bibioteca y sustituye `tk.Entry` por `ttk.Entry`.\n",
    "\n",
    "## 1.6 Usar un marco (Frame) para organizar componentes\n",
    "\n",
    "A veces, cuando tienes muchos widgets, es útil organizar los componentes en diferentes marcos (Frames). Un marco (Frame) es como un contenedor donde puedes agrupar widgets:"
   ],
   "id": "876d861596bced6b"
  },
  {
   "metadata": {},
   "cell_type": "code",
   "source": [
    "import tkinter as tk\n",
    "\n",
    "# Crear la ventana principal\n",
    "ventana = tk.Tk()\n",
    "ventana.title(\"Uso de Frame\")\n",
    "ventana.geometry(\"400x300\")\n",
    "\n",
    "# Crear un marco (Frame)\n",
    "frame = tk.Frame(ventana)\n",
    "frame.pack(padx=20, pady=20)\n",
    "\n",
    "# Crear un botón dentro del marco\n",
    "boton1 = tk.Button(frame, text=\"Botón 1\")\n",
    "boton1.pack(side=\"left\")\n",
    "\n",
    "# Crear otro botón dentro del marco\n",
    "boton2 = tk.Button(frame, text=\"Botón 2\")\n",
    "boton2.pack(side=\"left\")\n",
    "\n",
    "ventana.mainloop()"
   ],
   "id": "fd76fbaf4c287d28",
   "outputs": [],
   "execution_count": null
  },
  {
   "metadata": {},
   "cell_type": "markdown",
   "source": [
    "- tk.Frame(): Crea un contenedor o \"marco\".\n",
    "- side=\"left\": Coloca los botones en línea, de izquierda a derecha dentro del frame.\n",
    "\n",
    "Pruébalo ahora con TTK: importa primero la bibioteca y sustituye `tk.Frame` por `ttk.Frame`.\n",
    "\n",
    "## 1.7 Agregar un menú\n",
    "\n",
    "Tkinter permite agregar menús de tipo desplegable a las ventanas:"
   ],
   "id": "25887b7d65df9939"
  },
  {
   "metadata": {},
   "cell_type": "code",
   "source": [
    "import tkinter as tk\n",
    "\n",
    "# Crear la ventana principal\n",
    "ventana = tk.Tk()\n",
    "ventana.title(\"Menú en Tkinter\")\n",
    "ventana.geometry(\"400x300\")\n",
    "\n",
    "# Crear la barra de menús\n",
    "barra_menu = tk.Menu(ventana)\n",
    "ventana.config(menu=barra_menu)\n",
    "\n",
    "# Crear un menú\n",
    "menu_archivo = tk.Menu(barra_menu, tearoff=0)\n",
    "barra_menu.add_cascade(label=\"Archivo\", menu=menu_archivo)\n",
    "\n",
    "# Añadir opciones al menú\n",
    "menu_archivo.add_command(label=\"Nuevo\")\n",
    "menu_archivo.add_command(label=\"Abrir\")\n",
    "menu_archivo.add_separator()  # Línea separadora\n",
    "menu_archivo.add_command(label=\"Salir\", command=lambda: ventana.destroy())\n",
    "\n",
    "ventana.mainloop()"
   ],
   "id": "a17d0986b60254e4",
   "outputs": [],
   "execution_count": null
  },
  {
   "metadata": {},
   "cell_type": "markdown",
   "source": [
    "- tk.Menu(): Crea un menú.\n",
    "- add_cascade(): Añade un menú desplegable a la barra de menús.\n",
    "- add_command(): Añade entradas al menú.\n",
    "\n",
    "No existe un widget Menu específico en TTK. El widget Menu es parte de Tkinter, pero TTK no lo extiende ni ofrece una versión estilizada de este.\n",
    "\n",
    "## 1.8 Eventos y bindings\n",
    "\n",
    "Puedes hacer que los widgets respondan a eventos, como teclas presionadas o movimientos del ratón:"
   ],
   "id": "cc45572a6ddc5e51"
  },
  {
   "metadata": {},
   "cell_type": "code",
   "source": [
    "import tkinter as tk\n",
    "\n",
    "# Crear la ventana principal\n",
    "ventana = tk.Tk()\n",
    "ventana.title(\"Eventos y Bindings\")\n",
    "ventana.geometry(\"400x300\")\n",
    "\n",
    "# Crear una etiqueta\n",
    "etiqueta = tk.Label(ventana, text=\"Presiona una tecla\", font=(\"Arial\", 14))\n",
    "etiqueta.pack(pady=50)\n",
    "\n",
    "# Función que se ejecuta cuando se presiona una tecla\n",
    "def tecla_presionada(event):\n",
    "    etiqueta.config(text=f\"¡Has presionado la tecla {event.char}!\")\n",
    "\n",
    "# Asociar el evento de la tecla presionada\n",
    "ventana.bind(\"<KeyPress>\", tecla_presionada)\n",
    "\n",
    "ventana.mainloop()"
   ],
   "id": "e1d553a43b58e203",
   "outputs": [],
   "execution_count": null
  },
  {
   "metadata": {},
   "cell_type": "markdown",
   "source": "- ventana.bind(\"`<KeyPress>`\", tecla_presionada): Asocia un evento de tecla presionada a la función tecla_presionada.",
   "id": "5467e716540ee89e"
  },
  {
   "metadata": {},
   "cell_type": "markdown",
   "source": [
    "## 1.9 Ejercicios if-elif-else:\n",
    "- **Ejercicio 1:** Crear una ventana que tenga un botón. Al presionar el botón, se cambia el color de fondo de la ventana. Utiliza tres colores diferentes: red, blue y green. Cuando se presiona el botón, cambia el color de fondo entre estos colores de forma cíclica. Puedes obtener el color de fondo de la ventana con `ventana.cget(\"bg\")` y establecerlo con `ventana.config(br=\"mi_color\")`.\n",
    "\n",
    "- **Ejercicio 2:** Crear una calculadora básica empleando una interfaz con botones para los números (0-9), las operaciones (+, -, *, /), y un botón de igual (=) para calcular el resultado. Conforme se van presionando botones, vamos escribiendo una expresión en un widget de tipo Entry (capturamos lo que había, lo borramos y volvemos a escribir la expresión añadiendo lo nuevo). No obstante, si el botón presionado es `=` entonces habrá que evaluar la expresión del Entry (`eval(entry.get())`... que podría arrojar excepciones), después borramos lo escrito y escribimos el resultado (o un mensaje de error si se produjo). Opcionalmente, podríamos desplegar los botones en el Frame empleando una lista de tuplas (con todos los botones) y recorriéndola con un bucle.\n",
    "\n",
    "- **Ejercicio 3:** Crear un formulario que valide la entrada de datos del usuario. Si la entrada es incorrecta, muestra un mensaje de error. Crea un formulario con campos para el nombre y el correo electrónico. Validemos que el nombre no esté vacío y que el correo electrónico contenga un @. Si la entrada no es válida, muestra un mensaje de error. Puedes emplear `messagebox.showerror(\"Tu mensaje de error\")`. No olvides importar el componente: `from tkinter import messagebox`.\n",
    "\n",
    "## 1.10 Ejercicios match-case:\n",
    "- **Ejercicio 4:** Crea una interfaz con tres botones que al ser presionados cambien el tamaño de la ventana. Ofrece tres opciones: pequeño, mediano y grande, usando un `match-case` para cambiar el tamaño de la ventana según la selección.\n",
    "\n",
    "- **Ejercicio 5:** Crear un menú con cuatro entradas (Rojo, Verde, Azul y Amarillo) para cambiar el fondo de la ventana. Cambia el fondo de la ventana cuando el usuario seleccione una opción."
   ],
   "id": "16fba10700fd3905"
  }
 ],
 "metadata": {
  "kernelspec": {
   "display_name": "Python 3",
   "language": "python",
   "name": "python3"
  },
  "language_info": {
   "codemirror_mode": {
    "name": "ipython",
    "version": 2
   },
   "file_extension": ".py",
   "mimetype": "text/x-python",
   "name": "python",
   "nbconvert_exporter": "python",
   "pygments_lexer": "ipython2",
   "version": "2.7.6"
  }
 },
 "nbformat": 4,
 "nbformat_minor": 5
}
