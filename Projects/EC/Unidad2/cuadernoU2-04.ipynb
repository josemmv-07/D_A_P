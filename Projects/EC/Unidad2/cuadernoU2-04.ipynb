{
 "cells": [
  {
   "metadata": {},
   "cell_type": "markdown",
   "source": "# 4. Ejercicios",
   "id": "23b7d75a4cae7275"
  },
  {
   "metadata": {},
   "cell_type": "markdown",
   "source": [
    "## **Ejercicio 1: Aplicación de gestión de contactos**\n",
    "Implementa una aplicación simple de gestión de contactos. Puedes usar una clase o no, pero se recomienda emplearla. Tendremos los siguientes componentes:\n",
    "\n",
    "1. **Formulario para agregar contactos:**\n",
    "   * Usamos un `Frame` para organizar los campos del formulario (nombre, email, teléfono).\n",
    "   * Cada campo está representado por un `Label` y un `Entry`.\n",
    "   * El botón \"Agregar contacto\" está asociado a la función `agregar_contacto()`, que valida que los campos no estén vacíos y luego agrega el contacto a la lista.\n",
    "\n",
    "2. **Lista de contactos:**\n",
    "   * Utilizamos un `Listbox` para mostrar todos los contactos que se han agregado. Cada vez que se agrega un nuevo contacto, la lista se actualiza con `actualizar_lista_contactos()`.\n",
    "   * La función `actualizar_lista_contactos()` borra todos los elementos de la lista y luego los vuelve a insertar a partir de la lista `contactos`.\n",
    "\n",
    "3. **Eliminar contactos:**\n",
    "   * El botón \"Eliminar contacto\" permite eliminar un contacto de la lista. Al seleccionar un contacto de la lista y hacer clic en el botón, el contacto se elimina.\n",
    "   * Se utiliza `curselection()` para obtener el índice del contacto seleccionado. Si no se selecciona nada, se muestra una advertencia.\n",
    "\n",
    "4. **Validación de datos:**\n",
    "   * En la función `agregar_contacto()`, se valida que los campos de entrada no estén vacíos. Si lo están, se muestra un mensaje de error utilizando `messagebox.showerror()`.\n",
    "\n",
    "Organiza la ventana principal con `pack()` y `grid()`. Los `Entry` se colocan en una cuadrícula (grid), y los botones y listas se colocan usando `pack()` para facilitar la organización. Ejemplo de uso de `grid`:\n",
    "\n",
    "```python\n",
    "label_nombre = tk.Label(frame_formulario, text=\"Nombre:\")\n",
    "label_nombre.grid(row=0, column=0, padx=5, pady=5)\n",
    "entry_nombre = tk.Entry(frame_formulario)\n",
    "entry_nombre.grid(row=0, column=1, padx=5, pady=5)\n",
    "```\n",
    "Puedes utilizar `ttk` para mejorar la apariencia de los widgets. También agregar iconos, barras de desplazamiento, etc."
   ],
   "id": "7bc922b7ab94def5"
  },
  {
   "metadata": {},
   "cell_type": "markdown",
   "source": [
    "## **Ejercicio 2: Aplicación reloj**\n",
    "Crea una aplicación que muestre la hora actual (horas, minutos y segundos), actualizándose constantemente. Podemos utilizar una clase o no. Tengamos en cuenta lo siguiente:\n",
    "\n",
    "- **Importaciones:** `import time`: Importa el módulo `time`, que nos permite trabajar con funciones relacionadas con el tiempo. En este caso, se usa para obtener la hora actual del sistema.\n",
    "- **Creación de la etiqueta (`Label`) que muestra la hora:** Modifica la fuente, el tamaño y el estilo (Ej. `Label(root, font=('times', 30, 'bold'), bg='yellow')`)\n",
    "- **Configuración de la etiqueta al añadirla a la ventana :** Puedes usar `mi_etiqueta.pack(fill=\"both\", expand=1)` para añadirla a la ventana principal, haciendo que el widget ocupe todo el espacio disponible en ambas direcciones (horizontal y vertical) y que se expanda para ocupar el espacio sobrante en la ventana.\n",
    "- **Obtener la hora actual y actualizar la etiqueta:** Emplea `time.strftime('%H:%M:%S')` para obtener la hora actual del sistema y formatearla en el formato `HH:MM:SS` (hora, minutos y segundos). Compara después la hora actual que has obtenido con la hora anterior que ya tenías). Si la hora ha cambiado, significa que el reloj necesita actualizarse con `clock.config(text=nueva_hora)`. Todo esto lo puedes hacer dentro de una función.\n",
    "- **Llamada repetida a la función anterior:** Emplea `mi_etiqueta.after(200, mi_función) para que la función se ejecute cada 200 milisegundos (0.2 segundos). Es una forma de crear un bucle de actualización. La función `after` permite crear una llamada asincrónica para que no se congele la interfaz mientras se actualiza el reloj."
   ],
   "id": "a49991a805f737fb"
  },
  {
   "metadata": {},
   "cell_type": "markdown",
   "source": [
    "## **Ejercicio 3: Aplicación temporizador**\n",
    "Crea un temporizador que muestre un conteo regresivo desde 10 segundos, incluyendo un botón para iniciar y pausar el temporizador. Se recomienda emplear una clase. Tengamos en cuenta lo siguiente:\n",
    "\n",
    "- **Define una clase llamada `TimerApp`:** Representa la aplicación de temporizador. La clase contiene toda la lógica y los componentes de la interfaz para el temporizador. En el constructor incluye:\n",
    "  - Establece el tiempo inicial del temporizador a 10 segundos.\n",
    "  - Inicializa el estado del temporizador como detenido (no corriendo).\n",
    "  - Crea un `Label` (etiqueta de texto) que muestra el tiempo restante en formato `Tiempo: X`, donde `X` es el valor actual del tiempo que quede. Establece la fuente como Arial de tamaño 24.\n",
    "  - Empaqueta la etiqueta en la ventana, con un margen (padding) de 20 píxeles arriba y abajo.\n",
    "  - Crea un botón que permite iniciar o pausar el temporizador. El texto del botón es \"Iniciar/Pausar\" y se vincula al método `toggle_timer` para manejar el evento de haber pulsado el boitón.\n",
    "  - Empaqueta el botón en la ventana, con un margen de 20 píxeles.\n",
    "\n",
    "- **Establece un método `toggle_timer`:** Este método se ejecuta cuando el usuario hace clic en el botón. Su propósito es **alternar** entre iniciar y pausar el temporizador:\n",
    "  * Si el temporizador está **corriendo** (`self.running` es `True`), entonces lo **detiene** (`self.running = False`).\n",
    "  * Si el temporizador no está corriendo, lo **inicia** (`self.running = True`) y llama al método `countdown()` para comenzar la cuenta atrás.\n",
    "\n",
    "- **Establece un método `countdown`:** Este método maneja la lógica de la cuenta atrás. Se ejecuta cada segundo mientras el temporizador esté corriendo:\n",
    "\n",
    "  * Verifica si el temporizador está corriendo y si aún queda tiempo (`time_left > 0`) actualiza el texto de la etiqueta para mostrar el tiempo restante (`self.label.config(text=f\"Tiempo: {self.time_left}\")`).\n",
    "  * Luego, reduce el valor de `time_left` en 1.\n",
    "  * Usa `self.master.after(1000, self.countdown)` para hacer que la función se ejecute nuevamente después de **1000 milisegundos** (1 segundo). Esto crea un ciclo repetido que actualiza el temporizador cada segundo.\n",
    "  * Si el tiempo se ha agotado, muestra el mensaje \"¡Tiempo agotado!\" en la etiqueta y detiene el temporizador (`self.running = False`)."
   ],
   "id": "d729689e9bfa6506"
  }
 ],
 "metadata": {
  "kernelspec": {
   "display_name": "Python 3",
   "language": "python",
   "name": "python3"
  },
  "language_info": {
   "codemirror_mode": {
    "name": "ipython",
    "version": 2
   },
   "file_extension": ".py",
   "mimetype": "text/x-python",
   "name": "python",
   "nbconvert_exporter": "python",
   "pygments_lexer": "ipython2",
   "version": "2.7.6"
  }
 },
 "nbformat": 4,
 "nbformat_minor": 5
}
