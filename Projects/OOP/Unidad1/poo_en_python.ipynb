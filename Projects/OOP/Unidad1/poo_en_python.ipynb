{
  "cells": [
    {
      "cell_type": "markdown",
      "metadata": {
        "id": "WqYqYFDaEz9H"
      },
      "source": [
        "# Programación Orientada a Objetos en Python\n",
        "\n",
        "Python es un lenguaje de propósito general multiparadigma. Se puede usar para programación imperativa, funcional y programación orientada a objetos.\n",
        "\n",
        "## Clases y objetos\n",
        "\n",
        "La programación orientada a objetos es un paradigma que se basa, como su nombre indica, en la utilización de objetos. Estos objetos también se suelen llamar instancias.\n",
        "\n",
        "Un objeto en términos de POO no se diferencia mucho de lo que conocemos como un objeto en la vida real (es algo así como una abstracción del mismo).\n",
        "\n",
        "Pensemos por ejemplo en un coche. Nuestro coche sería un objeto concreto de la vida real, igual que el coche del vecino, o el coche de un compañero de trabajo.\n",
        "\n",
        "Tanto mi coche como el coche del vecino tienen algo en común, ambos son coches. En este caso, tanto mi coche como el coche del vecino serían **instancias** (objetos) y coche (a secas) sería una **clase**. La palabra clase define algo genéreico, no es un coche concreto sino que hace referencia a unos elementos que tienen una serie de propiedades en común como matrícula, marca, modelo, color, etc; este conjunto de propiedades se denominan **atributos** o **variables de instancia**.\n",
        "\n",
        "## Clase\n",
        "\n",
        "Concepto abstracto que denota una serie de cualidades, por ej. \"coche\".\n",
        "\n",
        "## Instancia\n",
        "\n",
        "Objeto palpable, que deriva de la concreción de una clase, por ejemplo \"mi coche\".\n",
        "\n",
        "## Atributos\n",
        "\n",
        "Conjunto de características que comparten los objetos de una clase, por ej. para la clase coche tendríamos matrícula, marca, modelo, color, etc."
      ]
    },
    {
      "cell_type": "code",
      "execution_count": 2,
      "metadata": {
        "id": "W15-9rEiAwV5"
      },
      "outputs": [],
      "source": [
        "from enum import Enum\n",
        "\n",
        "class Sexo(Enum):\n",
        "    MACHO = 1\n",
        "    HEMBRA = 2\n",
        "\n",
        "class Gato:\n",
        "  \"\"\"Esta clase define las características y el comportamiento de los gatos\"\"\"\n",
        "\n",
        "  def __init__(self, c=\"marron\", r=\"mestizo\", s: Sexo=Sexo.HEMBRA, e=1, p=1.5):\n",
        "    self.color = c\n",
        "    self.raza = r\n",
        "    self.sexo = s\n",
        "    self.edad = e\n",
        "    self.peso = p\n",
        "\n",
        "  def maulla(self):\n",
        "    print(\"Miauuuuuu\")\n",
        "\n",
        "  def ronronea(self):\n",
        "    print(\"mrrrrrrrr\")\n",
        "\n",
        "  def come(self, comida):\n",
        "    \"\"\"A los gatos les gusta el pescado, si le damos otra comida, la rechazará\"\"\"\n",
        "    if comida == \"pescado\":\n",
        "      print(\"Hmmmm, gracias\")\n",
        "    else:\n",
        "      print(f\"Lo siento, yo solo como pescado, no como {comida}\")\n"
      ]
    },
    {
      "cell_type": "code",
      "execution_count": 3,
      "metadata": {
        "colab": {
          "base_uri": "https://localhost:8080/"
        },
        "id": "VzAcTNQkK2uq",
        "outputId": "126b49b8-cefd-44b7-b82b-8cb5a88612cd"
      },
      "outputs": [
        {
          "name": "stdout",
          "output_type": "stream",
          "text": [
            "Miauuuuuu\n",
            "mrrrrrrrr\n",
            "Hmmmm, gracias\n",
            "Lo siento, yo solo como pescado, no como \n"
          ]
        }
      ],
      "source": [
        "# Prueba la clase Gato\n",
        "\n",
        "garfield = Gato(c=\"amarillo\", s=Sexo.MACHO)\n",
        "lisa = Gato(s=Sexo.HEMBRA)\n",
        "\n",
        "garfield.maulla()\n",
        "lisa.ronronea()\n",
        "\n",
        "garfield.come(\"pescado\")\n",
        "\n",
        "comida_para_lisa = input(\"Dime la comida que le damos a Lisa:\")\n",
        "lisa.come(comida_para_lisa)"
      ]
    },
    {
      "cell_type": "markdown",
      "metadata": {
        "id": "Si7oeD4nUFFZ"
      },
      "source": [
        "## Método `__str__()`\n",
        "\n",
        "El método `__str__()` es equivalente al `toString()` de Java. Permite mostrar el contenido de un objeto de forma \"amigable\"."
      ]
    },
    {
      "cell_type": "code",
      "execution_count": null,
      "metadata": {
        "colab": {
          "base_uri": "https://localhost:8080/"
        },
        "id": "Q2TG7fbLLDdE",
        "outputId": "c81d84a1-fba2-4f88-a1df-f3c9826ef847"
      },
      "outputs": [
        {
          "name": "stdout",
          "output_type": "stream",
          "text": [
            "<__main__.Gato object at 0x7ffa848a5040>\n"
          ]
        }
      ],
      "source": [
        "print(garfield)"
      ]
    },
    {
      "cell_type": "code",
      "execution_count": null,
      "metadata": {
        "id": "cg7n8u0mUvYK"
      },
      "outputs": [],
      "source": [
        "from enum import Enum\n",
        "import random\n",
        "\n",
        "class Sexo(Enum):\n",
        "    MACHO = 1\n",
        "    HEMBRA = 2\n",
        "\n",
        "class Gato:\n",
        "  \"\"\"Esta clase define las características y el comportamiento de los gatos\"\"\"\n",
        "\n",
        "  def __init__(self, n=\"\", c=\"marron\", r=\"mestizo\", s: Sexo=Sexo.HEMBRA, e=1, p=1.5):\n",
        "    self.nombre = n\n",
        "    self.color = c\n",
        "    self.raza = r\n",
        "    self.sexo = s\n",
        "    self.edad = e\n",
        "    self.peso = p\n",
        "    self.fuerza = 100\n",
        "    self.energia = 50\n",
        "\n",
        "  def __str__(self) -> str:\n",
        "    gatx = \"un gato\" if self.sexo == Sexo.MACHO else \"una gata\"\n",
        "    return f\"Hola, soy {gatx} de color {self.color}, de raza {self.raza}. Tengo {self.edad} años y peso {self.peso} kilos.\"\n",
        "\n",
        "  def maulla(self):\n",
        "    print(\"Miauuuuuu\")\n",
        "\n",
        "  def ronronea(self):\n",
        "    print(\"mrrrrrrrr\")\n",
        "\n",
        "  def come(self, comida):\n",
        "    \"\"\"A los gatos les gusta el pescado, si le damos otra comida, la rechazará\"\"\"\n",
        "    if comida == \"pescado\":\n",
        "      print(\"Hmmmm, gracias\")\n",
        "    else:\n",
        "      print(f\"Lo siento, yo solo como pescado, no como {comida}\")\n",
        "\n",
        "  def saluda_a(self, otro: Gato):\n",
        "    \"\"\"Un gato saluda a otro\"\"\"\n",
        "    print(f\"{self.nombre} frota su cabeza contra {otro.nombre}\")\n",
        "\n",
        "  def pelea_con(self, contrincante):\n",
        "    \"\"\"\n",
        "    Pone a pelear dos gatos.\n",
        "    Solo se pelean si ambos tienen suficiente energía (al menos 10 puntos).\n",
        "    El más fuerte gana. Si tienen la misma fuerza, empatan.\n",
        "    Después de la pelea:\n",
        "     - Ambos gatos pierden una cantidad aleatoria de puntos de energía entre 1 y 5.\n",
        "     - Ambos gatos ganan una cantidad de fuerza aleatoria entre 1 y 10.\n",
        "    Pista: random.randint(inicio, fin)\n",
        "    \"\"\"\n",
        "    if self.energia < 10:\n",
        "      print(f\"{self.nombre} está demasiado cansado para pelear.\")\n",
        "    else:\n",
        "      if contrincante.energia < 10:\n",
        "        print(f\"{self.nombre} está cansado, no hay pelea.\")\n",
        "      else:\n",
        "        # Pelea, pelea\n",
        "        if self.fuerza > contrincante.fuerza:\n",
        "          print(f\"{self.nombre} gana la pelea.\")\n",
        "        elif self.fuerza < contrincante.fuerza:\n",
        "          print(f\"{contrincante.nombre} gana la pelea.\")\n",
        "        else:\n",
        "          print(\"La pelea termina en empate.\")\n",
        "\n",
        "        # Quita energía a ambos gatos\n",
        "        self.energia -= random.randint(1, 5)\n",
        "        contrincante.energia -= random.randint(1, 5)\n",
        "        # Da fuerza a ambos gatos\n",
        "        self.fuerza += random.randint(1, 10)\n",
        "        contrincante.fuerza += random.randint(1, 10)\n",
        "\n",
        "\n"
      ]
    },
    {
      "cell_type": "code",
      "execution_count": null,
      "metadata": {
        "colab": {
          "base_uri": "https://localhost:8080/"
        },
        "id": "rWXuoJGEaPcb",
        "outputId": "8124b09a-ac80-451b-a421-a616dd1c9d64"
      },
      "outputs": [
        {
          "name": "stdout",
          "output_type": "stream",
          "text": [
            "Hola, soy un gato de color amarillo, de raza mestizo. Tengo 1 años y peso 1.5 kilos.\n",
            "Hola, soy una gata de color marron, de raza mestizo. Tengo 1 años y peso 1.5 kilos.\n"
          ]
        }
      ],
      "source": [
        "# Prueba la clase Gato\n",
        "\n",
        "garfield = Gato(n=\"Garfield\", c=\"amarillo\", s=Sexo.MACHO)\n",
        "lisa = Gato(n=\"Lisa Marisa\", s=Sexo.HEMBRA)\n",
        "\n",
        "print(garfield)\n",
        "print(lisa)"
      ]
    },
    {
      "cell_type": "code",
      "execution_count": null,
      "metadata": {
        "colab": {
          "base_uri": "https://localhost:8080/"
        },
        "id": "udHOmsHPsT39",
        "outputId": "4f0d0a7d-39f4-476a-92c0-675406bd510c"
      },
      "outputs": [
        {
          "name": "stdout",
          "output_type": "stream",
          "text": [
            "Garfield frota su cabeza contra Lisa Marisa\n",
            "La pelea termina en empate.\n"
          ]
        }
      ],
      "source": [
        "garfield.saluda_a(lisa)\n",
        "garfield.pelea_con(lisa)"
      ]
    },
    {
      "cell_type": "code",
      "execution_count": null,
      "metadata": {
        "colab": {
          "base_uri": "https://localhost:8080/"
        },
        "id": "aQOegCod_Ovj",
        "outputId": "21bb3a9b-ef8b-4c6b-d58d-5818b0b50ff0"
      },
      "outputs": [
        {
          "name": "stdout",
          "output_type": "stream",
          "text": [
            "Lisa Marisa gana la pelea.\n"
          ]
        }
      ],
      "source": [
        "yiyi = Gato(n=\"Yiyi\", c=\"naranja\")\n",
        "yiyi.pelea_con(lisa)"
      ]
    },
    {
      "cell_type": "code",
      "execution_count": null,
      "metadata": {
        "colab": {
          "base_uri": "https://localhost:8080/"
        },
        "id": "AlyEOXJZALyo",
        "outputId": "82818c6f-bfa4-479f-c42a-dc54219284b2"
      },
      "outputs": [
        {
          "name": "stdout",
          "output_type": "stream",
          "text": [
            "Yiyi gana la pelea.\n"
          ]
        }
      ],
      "source": [
        "garfield.pelea_con(yiyi)"
      ]
    },
    {
      "cell_type": "markdown",
      "metadata": {
        "id": "x5GmIeKir6b5"
      },
      "source": [
        "## Atributos y métodos de clase\n",
        "\n",
        "Se aplican a la clase, no a los objetos particulares."
      ]
    },
    {
      "cell_type": "code",
      "execution_count": null,
      "metadata": {
        "id": "0wWLXSEHaSCF"
      },
      "outputs": [],
      "source": [
        "# Clase Vehiculo sin atributos ni métodos de clase\n",
        "\n",
        "class Vehiculo:\n",
        "\n",
        "  def __init__(self, marca, modelo):\n",
        "    self.marca = marca\n",
        "    self.modelo = modelo\n",
        "    self.kilometraje = 0\n",
        "\n",
        "  def __str__(self) -> str:\n",
        "    return f\"Marca: {self.marca} | Modelo: {self.modelo} | Kilometraje: {self.kilometraje}\"\n",
        "\n",
        "  def recorre(self, km):\n",
        "    \"\"\"Recorre una determinada distancia\"\"\"\n",
        "    self.kilometraje += km"
      ]
    },
    {
      "cell_type": "code",
      "execution_count": null,
      "metadata": {
        "id": "MTZeH6cDEkb7"
      },
      "outputs": [],
      "source": [
        "vehiculo1 = Vehiculo(\"Porsche\", \"911\")\n",
        "vehiculo2 = Vehiculo(\"Moto Guzzi\", \"V7\")\n",
        "vehiculo3 = Vehiculo(\"BH\", \"Speedrom\")\n",
        "vehiculo4 = Vehiculo(\"Ford\", \"Fiesta\")\n",
        "vehiculo5 = Vehiculo(\"Fiat\", \"Multipla\")\n",
        "vehiculo6 = Vehiculo(\"Toyota\", \"Corolla\")"
      ]
    },
    {
      "cell_type": "code",
      "execution_count": null,
      "metadata": {
        "colab": {
          "base_uri": "https://localhost:8080/"
        },
        "id": "CmuvRiltFKZ6",
        "outputId": "a5b8d14e-b430-45ed-a0aa-c25b2e4df044"
      },
      "outputs": [
        {
          "name": "stdout",
          "output_type": "stream",
          "text": [
            "Marca: Ford | Modelo: Fiesta | Kilometraje: 0\n",
            "Marca: Toyota | Modelo: Corolla | Kilometraje: 0\n"
          ]
        }
      ],
      "source": [
        "print(vehiculo4)\n",
        "print(vehiculo6)"
      ]
    },
    {
      "cell_type": "code",
      "execution_count": null,
      "metadata": {
        "id": "cipHhr4KFuKS"
      },
      "outputs": [],
      "source": [
        "vehiculo1.recorre(500)\n",
        "vehiculo2.recorre(200)\n",
        "vehiculo3.recorre(random.randint(0, 150))\n",
        "vehiculo4.recorre(600)"
      ]
    },
    {
      "cell_type": "code",
      "execution_count": null,
      "metadata": {
        "id": "g2xeJL0VFV0i"
      },
      "outputs": [],
      "source": [
        "vehiculo1.recorre(300)"
      ]
    },
    {
      "cell_type": "code",
      "execution_count": null,
      "metadata": {
        "colab": {
          "base_uri": "https://localhost:8080/"
        },
        "id": "PE_W2W7AGJPx",
        "outputId": "f75a449a-9a1e-44a7-cd26-3a4100ec360a"
      },
      "outputs": [
        {
          "name": "stdout",
          "output_type": "stream",
          "text": [
            "Marca: Porsche | Modelo: 911 | Kilometraje: 800\n",
            "Marca: Moto Guzzi | Modelo: V7 | Kilometraje: 200\n",
            "Marca: BH | Modelo: Speedrom | Kilometraje: 42\n",
            "Marca: Ford | Modelo: Fiesta | Kilometraje: 600\n",
            "Marca: Fiat | Modelo: Multipla | Kilometraje: 0\n",
            "Marca: Toyota | Modelo: Corolla | Kilometraje: 0\n"
          ]
        }
      ],
      "source": [
        "print(vehiculo1)\n",
        "print(vehiculo2)\n",
        "print(vehiculo3)\n",
        "print(vehiculo4)\n",
        "print(vehiculo5)\n",
        "print(vehiculo6)"
      ]
    },
    {
      "cell_type": "code",
      "execution_count": 18,
      "metadata": {
        "id": "CTsNmMzXGSg3"
      },
      "outputs": [],
      "source": [
        "# Versión de la clase Vehiculo con atributos y métodos de clase\n",
        "\n",
        "class Vehiculo:\n",
        "\n",
        "  # atributo de clase\n",
        "  kilometraje_total = 0\n",
        "\n",
        "  def __init__(self, marca, modelo):\n",
        "    self.marca = marca\n",
        "    self.modelo = modelo\n",
        "    self.kilometraje = 0\n",
        "\n",
        "  def __str__(self) -> str:\n",
        "    return f\"Marca: {self.marca} | Modelo: {self.modelo} | Kilometraje: {self.kilometraje}\"\n",
        "\n",
        "  @classmethod\n",
        "  def muestra_kilometraje_total(cls):\n",
        "    print(f\"Entre todos los vehículos han recorrido {cls.kilometraje_total} Km\")\n",
        "\n",
        "  def recorre(self, km):\n",
        "    \"\"\"Recorre una determinada distancia\"\"\"\n",
        "    self.kilometraje += km\n",
        "    Vehiculo.kilometraje_total += km"
      ]
    },
    {
      "cell_type": "code",
      "execution_count": 4,
      "metadata": {
        "id": "pB9Isq6LbWVi"
      },
      "outputs": [],
      "source": [
        "import random"
      ]
    },
    {
      "cell_type": "code",
      "execution_count": 19,
      "metadata": {
        "id": "YvMsai6Oaj51"
      },
      "outputs": [],
      "source": [
        "vehiculo1 = Vehiculo(\"Porsche\", \"911\")\n",
        "vehiculo2 = Vehiculo(\"Moto Guzzi\", \"V7\")\n",
        "vehiculo3 = Vehiculo(\"BH\", \"Speedrom\")\n",
        "vehiculo4 = Vehiculo(\"Ford\", \"Fiesta\")\n",
        "vehiculo5 = Vehiculo(\"Fiat\", \"Multipla\")\n",
        "vehiculo6 = Vehiculo(\"Toyota\", \"Corolla\")\n",
        "vehiculo7 = Vehiculo(\"Ford\", \"Mustang\")\n",
        "vehiculo8 = Vehiculo(\"Audi\", \"TT\")"
      ]
    },
    {
      "cell_type": "code",
      "execution_count": 20,
      "metadata": {
        "id": "42QaqMANa60I"
      },
      "outputs": [],
      "source": [
        "vehiculo1.recorre(500)\n",
        "vehiculo2.recorre(200)\n",
        "vehiculo3.recorre(random.randint(0, 150))\n",
        "vehiculo4.recorre(600)\n",
        "vehiculo8.recorre(1000)"
      ]
    },
    {
      "cell_type": "code",
      "execution_count": 13,
      "metadata": {
        "colab": {
          "base_uri": "https://localhost:8080/"
        },
        "id": "ywJ7oIORbd1l",
        "outputId": "287511da-b0e6-4d79-8816-d2455971e010"
      },
      "outputs": [
        {
          "name": "stdout",
          "output_type": "stream",
          "text": [
            "Marca: Porsche | Modelo: 911 | Kilometraje: 500\n",
            "Marca: Moto Guzzi | Modelo: V7 | Kilometraje: 200\n",
            "Marca: BH | Modelo: Speedrom | Kilometraje: 112\n",
            "Marca: Ford | Modelo: Fiesta | Kilometraje: 600\n",
            "Marca: Fiat | Modelo: Multipla | Kilometraje: 0\n",
            "Marca: Toyota | Modelo: Corolla | Kilometraje: 0\n",
            "Marca: Ford | Modelo: Mustang | Kilometraje: 0\n",
            "Marca: Audi | Modelo: TT | Kilometraje: 1000\n"
          ]
        }
      ],
      "source": [
        "# Mostramos todos los datos de cada vehículo incluido el kilometraje\n",
        "print(vehiculo1)\n",
        "print(vehiculo2)\n",
        "print(vehiculo3)\n",
        "print(vehiculo4)\n",
        "print(vehiculo5)\n",
        "print(vehiculo6)\n",
        "print(vehiculo7)\n",
        "print(vehiculo8)"
      ]
    },
    {
      "cell_type": "code",
      "execution_count": 21,
      "metadata": {
        "colab": {
          "base_uri": "https://localhost:8080/"
        },
        "id": "PD_Fln_fbiaJ",
        "outputId": "2a9fdeb9-364f-4815-ed66-3b0f96c0cdaa"
      },
      "outputs": [
        {
          "name": "stdout",
          "output_type": "stream",
          "text": [
            "Entre todos los vehículos han recorrido 2396 Km\n"
          ]
        }
      ],
      "source": [
        "# Kilometraje total de los vehículos\n",
        "\n",
        "Vehiculo.muestra_kilometraje_total()"
      ]
    },
    {
      "cell_type": "markdown",
      "metadata": {
        "id": "BVFrP1F7gF8y"
      },
      "source": [
        "## Herencia"
      ]
    },
    {
      "cell_type": "code",
      "execution_count": 61,
      "metadata": {
        "id": "goQZuSnTh4Mi"
      },
      "outputs": [],
      "source": [
        "class Coche(Vehiculo):\n",
        "  \"\"\"La clase Coche es subclase de Vehiculo\"\"\"\n",
        "\n",
        "  def __init__(self, marca, modelo, numero_de_puertas=4):\n",
        "    super().__init__(marca, modelo)\n",
        "    self.numero_de_puertas = numero_de_puertas\n",
        "\n",
        "  def __str__(self):\n",
        "    return f\"{super().__str__()} | Nº de puertas: {self.numero_de_puertas}\"\n",
        "\n",
        "  def recorre(self, km):\n",
        "    super().recorre(km)\n",
        "    print(\"¡Estoy quemando gasolina!\")"
      ]
    },
    {
      "cell_type": "code",
      "execution_count": 62,
      "metadata": {
        "id": "0j-HaYY-mLHI"
      },
      "outputs": [],
      "source": [
        "class Bicicleta(Vehiculo):\n",
        "  \"\"\"La clase Bicicleta es subclase de Vehiculo\"\"\"\n",
        "\n",
        "  def __init__(self, marca, modelo, pinones=4):\n",
        "    super().__init__(marca, modelo)\n",
        "    self.pinones = pinones\n",
        "\n",
        "  def __str__(self):\n",
        "    return f\"{super().__str__()} | Nº de piñones: {self.pinones}\"\n",
        "\n",
        "  def recorre(self, km):\n",
        "    super().recorre(km)\n",
        "    print(\"¡Hago un caballito!\")"
      ]
    },
    {
      "cell_type": "code",
      "execution_count": 63,
      "metadata": {
        "id": "Q4t4BWDQi8Bs"
      },
      "outputs": [],
      "source": [
        "coche1 = Coche(\"Porsche\", \"911\", 2)\n",
        "coche2 = Coche(\"Toyota\", \"Celica\", 3)\n",
        "coche3 = Coche(\"Dacia\", \"Duster\", 5)\n",
        "coche4 = Coche(\"Saab\", \"93\")"
      ]
    },
    {
      "cell_type": "code",
      "execution_count": 64,
      "metadata": {
        "colab": {
          "base_uri": "https://localhost:8080/"
        },
        "id": "wtzYvWafkgNn",
        "outputId": "1597d565-ef49-4071-fc4f-12c83bbd22fc"
      },
      "outputs": [
        {
          "name": "stdout",
          "output_type": "stream",
          "text": [
            "¡Estoy quemando gasolina!\n"
          ]
        }
      ],
      "source": [
        "coche2.recorre(500)"
      ]
    },
    {
      "cell_type": "code",
      "execution_count": 65,
      "metadata": {
        "colab": {
          "base_uri": "https://localhost:8080/"
        },
        "id": "rmeHmCmakgA_",
        "outputId": "4ec56b56-7fbd-43c5-8ab0-46bbb69e22fc"
      },
      "outputs": [
        {
          "name": "stdout",
          "output_type": "stream",
          "text": [
            "Marca: Toyota | Modelo: Celica | Kilometraje: 500 | Nº de puertas: 3\n"
          ]
        }
      ],
      "source": [
        "print(coche2)"
      ]
    },
    {
      "cell_type": "code",
      "execution_count": 66,
      "metadata": {
        "id": "4O9Vuudlls5a"
      },
      "outputs": [],
      "source": [
        "bicicleta1 = Bicicleta(\"Orbea\", \"Furia\", 1)\n",
        "bicicleta2 = Bicicleta(\"Monty\", \"BMX\", 1)"
      ]
    },
    {
      "cell_type": "code",
      "execution_count": 67,
      "metadata": {
        "colab": {
          "base_uri": "https://localhost:8080/"
        },
        "id": "EHskc80hpQXD",
        "outputId": "f276a2c2-6d5d-4b4c-baf8-2bb8b955ff42"
      },
      "outputs": [
        {
          "name": "stdout",
          "output_type": "stream",
          "text": [
            "¡Hago un caballito!\n",
            "Marca: Orbea | Modelo: Furia | Kilometraje: 10 | Nº de piñones: 1\n"
          ]
        }
      ],
      "source": [
        "bicicleta1.recorre(10)\n",
        "print(bicicleta1)"
      ]
    },
    {
      "cell_type": "markdown",
      "metadata": {
        "id": "tE5i2L7ixWIp"
      },
      "source": [
        "En Python se usan los caracteres de subrayado (`_`) para indicar cuando un atributo o un método es protegido o privado"
      ]
    },
    {
      "cell_type": "code",
      "execution_count": null,
      "metadata": {
        "id": "j6gPyIN0pa8i"
      },
      "outputs": [],
      "source": [
        "class X:\n",
        "  def __init__(self):\n",
        "    # atributo público\n",
        "    self.x = 0\n",
        "\n",
        "    # atributo protegido\n",
        "    self._y = 0\n",
        "\n",
        "    # atributo privado\n",
        "    self.__z = 0"
      ]
    }
  ],
  "metadata": {
    "colab": {
      "provenance": []
    },
    "kernelspec": {
      "display_name": "Python 3",
      "name": "python3"
    },
    "language_info": {
      "codemirror_mode": {
        "name": "ipython",
        "version": 3
      },
      "file_extension": ".py",
      "mimetype": "text/x-python",
      "name": "python",
      "nbconvert_exporter": "python",
      "pygments_lexer": "ipython3",
      "version": "3.13.7"
    }
  },
  "nbformat": 4,
  "nbformat_minor": 0
}
