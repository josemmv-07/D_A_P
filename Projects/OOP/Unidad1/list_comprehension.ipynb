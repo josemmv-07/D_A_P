{
  "cells": [
    {
      "cell_type": "markdown",
      "metadata": {
        "id": "S87TJQ8ZB4aW"
      },
      "source": [
        "# List comprehension (comprensión de listas)\n",
        "\n",
        "Una lista de comprensión es una forma concisa de crear listas.\n",
        "\n",
        "La sintaxis básica de una lista de comprensión es la siguiente:\n",
        "\n",
        "```\n",
        "nueva_lista = [expresion for elemento in iterable if condicion]\n",
        "```\n",
        "\n",
        "Para la creación de la lista se ejecutan los siguientes pasos:\n",
        "\n",
        "1. `for elemento in iterable`: Itera sobre cada elemento en el iterable (el iterable es típicamente una lista).\n",
        "2. `if condicion`: Filtra los elementos basados en una condición (este paso es opcional).\n",
        "3. `expresion`: Aplica esta expresión a cada elemento que pasa la condición y lo coloca en la nueva lista."
      ]
    },
    {
      "cell_type": "code",
      "execution_count": 1,
      "metadata": {
        "colab": {
          "base_uri": "https://localhost:8080/"
        },
        "id": "syj3WMVVBYhP",
        "outputId": "bcea3179-e55c-425e-ae83-5683713e3a50"
      },
      "outputs": [
        {
          "name": "stdout",
          "output_type": "stream",
          "text": [
            "[0, 1, 4, 9, 16, 25, 36, 49, 64, 81]\n"
          ]
        }
      ],
      "source": [
        "# Crea una lista de los cuadrados de los números del 0 al 9\n",
        "\n",
        "cuadrados = [n ** 2 for n in range(10)]\n",
        "print(cuadrados)"
      ]
    },
    {
      "cell_type": "code",
      "execution_count": 2,
      "metadata": {
        "colab": {
          "base_uri": "https://localhost:8080/"
        },
        "id": "qlZEv40sFzLY",
        "outputId": "43daf164-143c-4bed-b75d-127e13a66384"
      },
      "outputs": [
        {
          "name": "stdout",
          "output_type": "stream",
          "text": [
            "[0, 4, 16, 36, 64]\n"
          ]
        }
      ],
      "source": [
        "# Crea una lista de los cuadrados de los números pares del 0 al 9\n",
        "\n",
        "cuadrados_de_pares = [n ** 2 for n in range(10) if n % 2 == 0]\n",
        "print(cuadrados_de_pares)"
      ]
    },
    {
      "cell_type": "code",
      "execution_count": null,
      "metadata": {
        "colab": {
          "base_uri": "https://localhost:8080/"
        },
        "id": "zSGJu6emJSNY",
        "outputId": "cd3380be-7bd3-4dc8-a3a3-073aeb3f139c"
      },
      "outputs": [
        {
          "name": "stdout",
          "output_type": "stream",
          "text": [
            "['MANZANA', 'PLÁTANO', 'MELOCOTON']\n"
          ]
        }
      ],
      "source": [
        "# Crea una lista con las palabras en mayúsculas que tienen una longitud mayor que 5\n",
        "\n",
        "frutas = [\"manzana\", \"kiwi\", \"uva\", \"plátano\", \"pera\", \"melocoton\"]\n",
        "mayusculas = [fruta.upper() for fruta in frutas if len(fruta) > 5]\n",
        "print(mayusculas)"
      ]
    },
    {
      "cell_type": "code",
      "execution_count": 8,
      "metadata": {
        "colab": {
          "base_uri": "https://localhost:8080/"
        },
        "id": "eG8p0545MP8R",
        "outputId": "20b81801-f02d-4900-e430-656511445562"
      },
      "outputs": [
        {
          "name": "stdout",
          "output_type": "stream",
          "text": [
            "['as', 'tres', 'sota', 'caballo', 'rey']\n"
          ]
        }
      ],
      "source": [
        "# A partir del diccionario de los puntos de la brisca,\n",
        "# crea una lista con los nombres de las figuras que tienen algún valor.\n",
        "\n",
        "puntos_brisca = {\n",
        "    \"as\": 11,\n",
        "    \"dos\": 0,\n",
        "    \"tres\": 10,\n",
        "    \"cuatro\": 0,\n",
        "    \"cinco\": 0,\n",
        "    \"seis\": 0,\n",
        "    \"siete\": 0,\n",
        "    \"sota\": 2,\n",
        "    \"caballo\": 3,\n",
        "    \"rey\": 4,\n",
        "}\n",
        "\n",
        "figuras_con_valor = [figura for figura in puntos_brisca if puntos_brisca[figura] > 0]\n",
        "\n",
        "print(figuras_con_valor)"
      ]
    },
    {
      "cell_type": "code",
      "execution_count": null,
      "metadata": {
        "id": "PeTkJEftN6ID"
      },
      "outputs": [],
      "source": []
    }
  ],
  "metadata": {
    "colab": {
      "provenance": []
    },
    "kernelspec": {
      "display_name": "Python 3",
      "name": "python3"
    },
    "language_info": {
      "name": "python"
    }
  },
  "nbformat": 4,
  "nbformat_minor": 0
}
