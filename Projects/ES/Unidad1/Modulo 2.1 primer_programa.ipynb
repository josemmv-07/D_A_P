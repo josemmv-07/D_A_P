{
 "cells": [
  {
   "cell_type": "code",
   "execution_count": 1,
   "metadata": {
    "colab": {
     "base_uri": "https://localhost:8080/"
    },
    "collapsed": true,
    "executionInfo": {
     "elapsed": 6,
     "status": "ok",
     "timestamp": 1759852317145,
     "user": {
      "displayName": "Antonio Ortega",
      "userId": "15172390608696503713"
     },
     "user_tz": -120
    },
    "id": "HJmrlGfwd8R8",
    "outputId": "66d521ba-faa8-4b8c-80d9-42169aa2c747"
   },
   "outputs": [
    {
     "name": "stdout",
     "output_type": "stream",
     "text": [
      "La Witsi Witsi Araña subió a su telaraña.\n",
      "Vino la lluvia y se la llevó.\n"
     ]
    }
   ],
   "source": [
    "# La función print\n",
    "print(\"La Witsi Witsi Araña subió a su telaraña.\")\n",
    "print(\"Vino la lluvia y se la llevó.\")"
   ]
  },
  {
   "cell_type": "code",
   "execution_count": 2,
   "metadata": {
    "colab": {
     "base_uri": "https://localhost:8080/"
    },
    "executionInfo": {
     "elapsed": 4,
     "status": "ok",
     "timestamp": 1759852401498,
     "user": {
      "displayName": "Antonio Ortega",
      "userId": "15172390608696503713"
     },
     "user_tz": -120
    },
    "id": "OzZBXvthdoZp",
    "outputId": "b3ef0bae-4eda-4504-babf-b62437809bc0"
   },
   "outputs": [
    {
     "name": "stdout",
     "output_type": "stream",
     "text": [
      "La Witsi Witsi Araña subió a su telaraña.\n",
      "\n",
      "Vino la lluvia y se la llevó.\n"
     ]
    }
   ],
   "source": [
    "# Print sin argumentos\n",
    "print(\"La Witsi Witsi Araña subió a su telaraña.\")\n",
    "print()\n",
    "print(\"Vino la lluvia y se la llevó.\")"
   ]
  },
  {
   "cell_type": "code",
   "execution_count": 3,
   "metadata": {
    "colab": {
     "base_uri": "https://localhost:8080/"
    },
    "executionInfo": {
     "elapsed": 16,
     "status": "ok",
     "timestamp": 1759852548392,
     "user": {
      "displayName": "Antonio Ortega",
      "userId": "15172390608696503713"
     },
     "user_tz": -120
    },
    "id": "_J0TrUWJeEHP",
    "outputId": "cbecbbcf-368a-4d2d-c068-346eae95e2b3"
   },
   "outputs": [
    {
     "name": "stdout",
     "output_type": "stream",
     "text": [
      "La Witsi Witsi Araña\n",
      "subió a su telaraña.\n",
      "\n",
      "\n",
      "Vino la lluvia\n",
      "y se la llevó.\n"
     ]
    }
   ],
   "source": [
    "# Caracteres de escape\n",
    "print(\"La Witsi Witsi Araña\\nsubió a su telaraña.\\n\")\n",
    "print()\n",
    "print(\"Vino la lluvia\\ny se la llevó.\")"
   ]
  },
  {
   "cell_type": "code",
   "execution_count": 4,
   "metadata": {
    "colab": {
     "base_uri": "https://localhost:8080/"
    },
    "executionInfo": {
     "elapsed": 5,
     "status": "ok",
     "timestamp": 1759852609972,
     "user": {
      "displayName": "Antonio Ortega",
      "userId": "15172390608696503713"
     },
     "user_tz": -120
    },
    "id": "O9zeeCOYeMbS",
    "outputId": "43e6d28e-5015-4295-bbce-67b9770ee4e5"
   },
   "outputs": [
    {
     "name": "stdout",
     "output_type": "stream",
     "text": [
      "La Witsi Witsi Araña\n",
      "subió a su telaraña.\n",
      "\n",
      "Vino la lluvia\n",
      "y se la llevó.\n"
     ]
    }
   ],
   "source": [
    "print(\"La Witsi Witsi Araña\\nsubió a su telaraña.\")\n",
    "print()\n",
    "print(\"Vino la lluvia\\ny se la llevó.\")"
   ]
  },
  {
   "cell_type": "code",
   "execution_count": 8,
   "metadata": {
    "colab": {
     "base_uri": "https://localhost:8080/"
    },
    "executionInfo": {
     "elapsed": 6,
     "status": "ok",
     "timestamp": 1759852993069,
     "user": {
      "displayName": "Antonio Ortega",
      "userId": "15172390608696503713"
     },
     "user_tz": -120
    },
    "id": "SQRATQM9eVtS",
    "outputId": "85891ff3-80a2-450b-9d90-9d6e4ec083c0"
   },
   "outputs": [
    {
     "name": "stdout",
     "output_type": "stream",
     "text": [
      "''\n"
     ]
    }
   ],
   "source": [
    "# Imprimir la barra de escape\n",
    "print(\"\\\")"
   ]
  },
  {
   "cell_type": "code",
   "execution_count": 9,
   "metadata": {
    "colab": {
     "base_uri": "https://localhost:8080/"
    },
    "executionInfo": {
     "elapsed": 122,
     "status": "ok",
     "timestamp": 1759853068564,
     "user": {
      "displayName": "Antonio Ortega",
      "userId": "15172390608696503713"
     },
     "user_tz": -120
    },
    "id": "FpFx61lheV-v",
    "outputId": "39dde949-88ba-467d-ba28-303cdd91997f"
   },
   "outputs": [
    {
     "name": "stdout",
     "output_type": "stream",
     "text": [
      "\\\n"
     ]
    }
   ],
   "source": [
    "print(\"\\\\\")"
   ]
  },
  {
   "cell_type": "code",
   "execution_count": 11,
   "metadata": {
    "colab": {
     "base_uri": "https://localhost:8080/"
    },
    "executionInfo": {
     "elapsed": 13,
     "status": "ok",
     "timestamp": 1759853211429,
     "user": {
      "displayName": "Antonio Ortega",
      "userId": "15172390608696503713"
     },
     "user_tz": -120
    },
    "id": "IdTx0H4za3i0",
    "outputId": "0b2a54e1-d3c1-4caa-8f56-5b922608d336"
   },
   "outputs": [
    {
     "name": "stdout",
     "output_type": "stream",
     "text": [
      "\\n\n"
     ]
    }
   ],
   "source": [
    "# imprimir \\n\n",
    "print(\"\\\\n\")"
   ]
  },
  {
   "cell_type": "code",
   "execution_count": 12,
   "metadata": {
    "colab": {
     "base_uri": "https://localhost:8080/"
    },
    "executionInfo": {
     "elapsed": 42,
     "status": "ok",
     "timestamp": 1759853267412,
     "user": {
      "displayName": "Antonio Ortega",
      "userId": "15172390608696503713"
     },
     "user_tz": -120
    },
    "id": "g4MvQsx6ee_e",
    "outputId": "877b9d39-07c4-42d2-a681-b51b8e67824f"
   },
   "outputs": [
    {
     "name": "stdout",
     "output_type": "stream",
     "text": [
      "La Witsi Witsi Araña subió a su telaraña.\n"
     ]
    }
   ],
   "source": [
    "# Múltiples argumentos de print\n",
    "print(\"La Witsi Witsi Araña\" , \"subió\" , \"a su telaraña.\")"
   ]
  },
  {
   "cell_type": "code",
   "execution_count": 13,
   "metadata": {
    "colab": {
     "base_uri": "https://localhost:8080/"
    },
    "executionInfo": {
     "elapsed": 42,
     "status": "ok",
     "timestamp": 1759853308438,
     "user": {
      "displayName": "Antonio Ortega",
      "userId": "15172390608696503713"
     },
     "user_tz": -120
    },
    "id": "f3kxlZRyenHF",
    "outputId": "3fc43523-9aab-43cf-9951-3971f658cfe3"
   },
   "outputs": [
    {
     "name": "stdout",
     "output_type": "stream",
     "text": [
      "Mi nombre es Python.\n",
      "Monty Python.\n"
     ]
    }
   ],
   "source": [
    "# Argumentos posicionales\n",
    "print(\"Mi nombre es\", \"Python.\")\n",
    "print(\"Monty Python.\")"
   ]
  },
  {
   "cell_type": "code",
   "execution_count": 17,
   "metadata": {
    "colab": {
     "base_uri": "https://localhost:8080/"
    },
    "executionInfo": {
     "elapsed": 9,
     "status": "ok",
     "timestamp": 1759853534147,
     "user": {
      "displayName": "Antonio Ortega",
      "userId": "15172390608696503713"
     },
     "user_tz": -120
    },
    "id": "c4Kj7NsjewOs",
    "outputId": "3a263b9e-7133-4240-fb80-4c335ca5b740"
   },
   "outputs": [
    {
     "name": "stdout",
     "output_type": "stream",
     "text": [
      "Mi nombre es Python.\n",
      "Monty Python.\n"
     ]
    }
   ],
   "source": [
    "# Argumentos de palabra clave: end\n",
    "print(\"Mi nombre es\", \"Python.\", end=\" \")\n",
    "print(\"Monty Python.\")"
   ]
  },
  {
   "cell_type": "code",
   "execution_count": 18,
   "metadata": {
    "colab": {
     "base_uri": "https://localhost:8080/",
     "height": 108
    },
    "executionInfo": {
     "elapsed": 4,
     "status": "error",
     "timestamp": 1759853586037,
     "user": {
      "displayName": "Antonio Ortega",
      "userId": "15172390608696503713"
     },
     "user_tz": -120
    },
    "id": "EN3wwgDYe9rp",
    "outputId": "315a55b5-a72a-41ea-98c0-6ccee47f6fb4"
   },
   "outputs": [
    {
     "ename": "SyntaxError",
     "evalue": "positional argument follows keyword argument (ipython-input-2012353658.py, line 2)",
     "output_type": "error",
     "traceback": [
      "\u001b[0;36m  File \u001b[0;32m\"/tmp/ipython-input-2012353658.py\"\u001b[0;36m, line \u001b[0;32m2\u001b[0m\n\u001b[0;31m    print(\"Mi nombre es\", end=\" \", \"Python.\" )\u001b[0m\n\u001b[0m                                             ^\u001b[0m\n\u001b[0;31mSyntaxError\u001b[0m\u001b[0;31m:\u001b[0m positional argument follows keyword argument\n"
     ]
    }
   ],
   "source": [
    "# Posición de los argumentos de palabra clave\n",
    "print(\"Mi nombre es\", end=\" \", \"Python.\" )\n",
    "print(\"Monty Python.\")\n"
   ]
  },
  {
   "cell_type": "code",
   "execution_count": 19,
   "metadata": {
    "colab": {
     "base_uri": "https://localhost:8080/"
    },
    "executionInfo": {
     "elapsed": 44,
     "status": "ok",
     "timestamp": 1759853637039,
     "user": {
      "displayName": "Antonio Ortega",
      "userId": "15172390608696503713"
     },
     "user_tz": -120
    },
    "id": "kgZh2jjWfL1X",
    "outputId": "4137682b-6335-4bef-a984-37e705301fb6"
   },
   "outputs": [
    {
     "name": "stdout",
     "output_type": "stream",
     "text": [
      "Mi nombre esMonty Python.\n"
     ]
    }
   ],
   "source": [
    "print(\"Mi nombre es\", end=\"\")\n",
    "print(\"Monty Python.\")"
   ]
  },
  {
   "cell_type": "code",
   "execution_count": 20,
   "metadata": {
    "colab": {
     "base_uri": "https://localhost:8080/"
    },
    "executionInfo": {
     "elapsed": 17,
     "status": "ok",
     "timestamp": 1759853665538,
     "user": {
      "displayName": "Antonio Ortega",
      "userId": "15172390608696503713"
     },
     "user_tz": -120
    },
    "id": "0cJEjpxvnuAH",
    "outputId": "c1bac064-aa2c-4c4e-816d-dddf0b90bce8"
   },
   "outputs": [
    {
     "name": "stdout",
     "output_type": "stream",
     "text": [
      "Mi-nombre-es-Monty-Python.\n"
     ]
    }
   ],
   "source": [
    "# Argumentos de palabra clave: sep\n",
    "print(\"Mi\", \"nombre\", \"es\", \"Monty\", \"Python.\", sep=\"-\")"
   ]
  },
  {
   "cell_type": "code",
   "execution_count": null,
   "metadata": {
    "id": "Ts_3PMhan8h5"
   },
   "outputs": [],
   "source": [
    "# Combinando sep y end\n",
    "print(\"Mi\", \"nombre\", \"es\", sep=\"_\", end=\"*\")\n",
    "print(\"Monty\", \"Python.\", sep=\"*\", end=\"*\\n\")"
   ]
  },
  {
   "cell_type": "code",
   "execution_count": 1,
   "metadata": {
    "id": "iE02Tx7sp4YK"
   },
   "outputs": [
    {
     "name": "stdout",
     "output_type": "stream",
     "text": [
      "Fundamentos***Programación***en...Python\n"
     ]
    }
   ],
   "source": [
    "'''\n",
    "Ejercicio propuesto\n",
    "Modifica los argumentos clave del código escrito a continuación\n",
    "para que la salida sea:\n",
    "Fundamentos***Programación***en...Python\n",
    "'''\n",
    "print(\"Fundamentos\",\"Programación\",\"en\", sep=\"***\", end=\"...\")\n",
    "print(\"Python\")"
   ]
  },
  {
   "cell_type": "code",
   "execution_count": null,
   "metadata": {
    "id": "6avUNPuMqhGn"
   },
   "outputs": [
    {
     "name": "stdout",
     "output_type": "stream",
     "text": [
      "    *\n",
      "   * *\n",
      "  *   *\n",
      " *     *\n",
      "***   ***\n",
      "  *   *\n",
      "  *   *\n",
      "  *****\n",
      "    *\n",
      "   * *\n",
      "  *   *\n",
      " *     *\n",
      "***   ***\n",
      "  *   *\n",
      "  *   *\n",
      "  *****\n",
      "     *\n",
      "    ***\n",
      "   ** **\n",
      "  **   **\n",
      " **     **\n",
      "****   ****\n",
      "  **   **\n",
      "  **   **\n",
      "  *******\n",
      "    *\n",
      "   * *\n",
      "  *   *\n",
      " *     *\n",
      "***   ***\n",
      "  *   *\n",
      "  *   *\n",
      "  *****\n"
     ]
    }
   ],
   "source": [
    "'''\n",
    "Ejercicio propuesto\n",
    "El siguiente código muestra una flecha en pantalla\n",
    "Realizar modificaciones para:\n",
    "a) Minimizar el número de invocaciones de la función print() insertando la secuencia \\n en las cadenas.\n",
    "b) Hacer la flecha dos veces más grande (pero mantener las proporciones).\n",
    "c) Duplicar la flecha, colocando ambas flechas lado a lado;\n",
    "   nota: una cadena se puede multiplicar usando el siguiente truco: \"cadena\" * 2 producirá \"cadenacadena\"\n",
    "d) Elimina cualquiera de las comillas y observa detenidamente la respuesta de Python;\n",
    "   presta atención a donde Python ve un error: ¿es el lugar en donde realmente existe el error?\n",
    "e) Haz lo mismo con algunos de los paréntesis.\n",
    "f) Cambia cualquiera de las palabras print en otra cosa (por ejemplo de minúscula a mayúscula, Print) -\n",
    "   ¿Qué sucede ahora?\n",
    "g) Reemplaza algunas de las comillas por apóstrofes; observa lo que pasa detenidamente.\n",
    "'''\n",
    "print(\"    *\")\n",
    "print(\"   * *\")\n",
    "print(\"  *   *\")\n",
    "print(\" *     *\")\n",
    "print(\"***   ***\")\n",
    "print(\"  *   *\")\n",
    "print(\"  *   *\")\n",
    "print(\"  *****\")\n",
    "# A)\n",
    "print(\"    *\\n\" \\\n",
    "      \"   * *\\n\" \\\n",
    "      \"  *   *\\n\" \\\n",
    "      \" *     *\\n\" \\\n",
    "      \"***   ***\\n\" \\\n",
    "      \"  *   *\\n\" \\\n",
    "      \"  *   *\\n\" \\\n",
    "      \"  *****\")\n",
    "# B)\n",
    "print(\"     *\\n\"\n",
    "      \"    ***\\n\" \\\n",
    "      \"   ** **\\n\" \\\n",
    "      \"  **   **\\n\" \\\n",
    "      \" **     **\\n\" \\\n",
    "      \"****   ****\\n\" \\\n",
    "      \"  **   **\\n\" \\\n",
    "      \"  **   **\\n\" \\\n",
    "      \"  *******\")\n",
    "\n",
    "\n"
   ]
  },
  {
   "cell_type": "code",
   "execution_count": 15,
   "metadata": {
    "id": "24Loybgyq72m"
   },
   "outputs": [
    {
     "name": "stdout",
     "output_type": "stream",
     "text": [
      "    *\n",
      "    * *\n",
      "  *   *\n",
      " *     *\n",
      "***   ***\n",
      "  *   *\n",
      "  *   *\n",
      "  *****    *\n",
      "   * *\n",
      "  *   *\n",
      " *     *\n",
      "***   ***\n",
      "  *   *\n",
      "  *   *\n",
      "  *****\n"
     ]
    }
   ],
   "source": [
    "# C)\n",
    "print(\"    *\\n\", end=\" \" \\\n",
    "      \"   * *\\n\" \\\n",
    "      \"  *   *\\n\" \\\n",
    "      \" *     *\\n\" \\\n",
    "      \"***   ***\\n\" \\\n",
    "      \"  *   *\\n\" \\\n",
    "      \"  *   *\\n\" \\\n",
    "      \"  *****\")\n",
    "print(\"    *\\n\" \\\n",
    "      \"   * *\\n\" \\\n",
    "      \"  *   *\\n\" \\\n",
    "      \" *     *\\n\" \\\n",
    "      \"***   ***\\n\" \\\n",
    "      \"  *   *\\n\" \\\n",
    "      \"  *   *\\n\" \\\n",
    "      \"  *****\")\n"
   ]
  }
 ],
 "metadata": {
  "colab": {
   "authorship_tag": "ABX9TyPKo2CbkRkyYBnRlN7uroKN",
   "provenance": []
  },
  "kernelspec": {
   "display_name": "Python 3",
   "name": "python3"
  },
  "language_info": {
   "codemirror_mode": {
    "name": "ipython",
    "version": 3
   },
   "file_extension": ".py",
   "mimetype": "text/x-python",
   "name": "python",
   "nbconvert_exporter": "python",
   "pygments_lexer": "ipython3",
   "version": "3.13.7"
  }
 },
 "nbformat": 4,
 "nbformat_minor": 0
}
